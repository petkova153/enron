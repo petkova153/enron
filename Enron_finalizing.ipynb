{
 "cells": [
  {
   "cell_type": "markdown",
   "metadata": {},
   "source": [
    "   # ENRON. IDENTIFYING FRAUD.\n",
    "\n",
    "This assignment takes a closer look on the Enron fraud case revealed in the end of 2001.\n",
    "\n",
    "## Background. \n",
    "\n",
    "In its best years Enron was defined by many as innovative, ahead of its time, daring and revolutionary.\n",
    "\n",
    "The company was formed in 1985 following a merger between Houston Natural Gas Co. and Omaha-based InterNorth Inc. As the chief executive officer (CEO) of Houston Natural Gas, Kenneth Lay became Enron's CEO and chairman, and quickly rebranded Enron into an energy trader and supplier. Enron took great advantage of the deregulation of the energy markets which allowed companies to place bets on future prices.\n",
    "\n",
    "What allowed Enron to flourish was the dot-com bubble at the end of the 90s when the bubble was in full swing, and the Nasdaq hit 5,000. Revolutionary internet stocks were being overvalued and regulators simply accepted spiking share prices as the new normal.\n",
    "\n",
    "Read more: Enron Scandal: \n",
    "The Fall of a Wall Street Darling | Investopedia http://www.investopedia.com/updates/enron-scandal-summary/#ixzz4M3BnGYwZ\n",
    "The Rise and Fall of Enron | Journal of Accountancy http://www.journalofaccountancy.com/issues/2002/apr/theriseandfallofenron.html"
   ]
  },
  {
   "cell_type": "code",
   "execution_count": 1,
   "metadata": {
    "collapsed": false
   },
   "outputs": [],
   "source": [
    "import pprint\n",
    "import pandas as pd\n",
    "import numpy as np\n",
    "import matplotlib.pyplot as plt\n",
    "import pickle\n",
    "import os\n",
    "from time import time\n",
    "import re\n",
    "from numpy import log\n",
    "from numpy import sqrt\n",
    "from numpy import float64\n",
    "from numpy import nan\n",
    "import sys\n",
    "sys.path.append(\"../tools/\")\n",
    "from feature_format import featureFormat, targetFeatureSplit\n",
    "sys.path.append(\"../final_project/\")\n",
    "from tester import dump_classifier_and_data, test_classifier\n",
    "from sklearn.feature_selection import SelectKBest, f_classif\n",
    "from sklearn.preprocessing import MinMaxScaler\n",
    "from sklearn.pipeline import Pipeline, FeatureUnion\n",
    "from sklearn.grid_search import GridSearchCV\n",
    "from sklearn.decomposition import PCA\n",
    "from sklearn.linear_model import LogisticRegression\n",
    "from sklearn.naive_bayes import GaussianNB\n",
    "from sklearn import cross_validation\n",
    "from sklearn.cross_validation import KFold\n",
    "from sklearn.tree import DecisionTreeClassifier\n",
    "\n",
    "enron_data = pickle.load(open(\"../final_project/final_project_dataset.pkl\", \"r\"))"
   ]
  },
  {
   "cell_type": "markdown",
   "metadata": {},
   "source": [
    "## Exploration of the dataset\n",
    "\n",
    "The studied dataset has a total of 146"
   ]
  },
  {
   "cell_type": "code",
   "execution_count": 2,
   "metadata": {
    "collapsed": false
   },
   "outputs": [
    {
     "name": "stdout",
     "output_type": "stream",
     "text": [
      "Total amount of entries: 146\n"
     ]
    }
   ],
   "source": [
    "#There are 146 entries\n",
    "print 'Total amount of entries:',len(enron_data)"
   ]
  },
  {
   "cell_type": "markdown",
   "metadata": {},
   "source": [
    "Several observations are marked as \"POI\" which means that they were persons of interest during the legal investigation of the Enron fraud.\n",
    "\n",
    "Some researches claim that the extent of fraud and speculations at Enron was driven by the management always demanding from new strategies, innovation and being the best on the market without scrutinizing the methods and means for achieving that.\n",
    "\n",
    "A list of the 18 POI in this dataset is presented below."
   ]
  },
  {
   "cell_type": "code",
   "execution_count": 3,
   "metadata": {
    "collapsed": false
   },
   "outputs": [
    {
     "name": "stdout",
     "output_type": "stream",
     "text": [
      "POI: HANNON KEVIN P  \n",
      "POI: COLWELL WESLEY  \n",
      "POI: RIEKER PAULA H  \n",
      "POI: KOPPER MICHAEL J  \n",
      "POI: SHELBY REX  \n",
      "POI: DELAINEY DAVID W  \n",
      "POI: LAY KENNETH L  \n",
      "POI: BOWEN JR RAYMOND M  \n",
      "POI: BELDEN TIMOTHY N  \n",
      "POI: FASTOW ANDREW S  \n",
      "POI: CALGER CHRISTOPHER F  \n",
      "POI: RICE KENNETH D  \n",
      "POI: SKILLING JEFFREY K  \n",
      "POI: YEAGER F SCOTT  \n",
      "POI: HIRKO JOSEPH  \n",
      "POI: KOENIG MARK E  \n",
      "POI: CAUSEY RICHARD A  \n",
      "POI: GLISAN JR BEN F  \n"
     ]
    }
   ],
   "source": [
    "#Inspired by: http://stackoverflow.com/questions/8023306/get-key-by-value-in-dictionary\n",
    "\n",
    "for key in enron_data.keys():\n",
    "    if enron_data[key]['poi'] == True:\n",
    "        print 'POI:', key,\n",
    "        print ' '"
   ]
  },
  {
   "cell_type": "code",
   "execution_count": 4,
   "metadata": {
    "collapsed": false
   },
   "outputs": [
    {
     "name": "stdout",
     "output_type": "stream",
     "text": [
      "Number of POI: 18\n",
      "Number of nonPOI: 128\n"
     ]
    }
   ],
   "source": [
    "#Alternative 2\n",
    "\n",
    "count = sum([1 for key in enron_data if enron_data[key]['poi'] == True])\n",
    "print 'Number of POI:',count\n",
    "print 'Number of nonPOI:',len(enron_data)-count"
   ]
  },
  {
   "cell_type": "code",
   "execution_count": 5,
   "metadata": {
    "collapsed": false
   },
   "outputs": [
    {
     "name": "stdout",
     "output_type": "stream",
     "text": [
      "METTS MARK\n",
      "{'salary': 365788, 'to_messages': 807, 'deferral_payments': 'NaN', 'total_payments': 1061827, 'exercised_stock_options': 'NaN', 'bonus': 600000, 'restricted_stock': 585062, 'shared_receipt_with_poi': 702, 'restricted_stock_deferred': 'NaN', 'total_stock_value': 585062, 'expenses': 94299, 'loan_advances': 'NaN', 'from_messages': 29, 'other': 1740, 'from_this_person_to_poi': 1, 'poi': False, 'director_fees': 'NaN', 'deferred_income': 'NaN', 'long_term_incentive': 'NaN', 'email_address': 'mark.metts@enron.com', 'from_poi_to_this_person': 38}\n",
      "--------------\n",
      "BAXTER JOHN C\n",
      "{'salary': 267102, 'to_messages': 'NaN', 'deferral_payments': 1295738, 'total_payments': 5634343, 'exercised_stock_options': 6680544, 'bonus': 1200000, 'restricted_stock': 3942714, 'shared_receipt_with_poi': 'NaN', 'restricted_stock_deferred': 'NaN', 'total_stock_value': 10623258, 'expenses': 11200, 'loan_advances': 'NaN', 'from_messages': 'NaN', 'other': 2660303, 'from_this_person_to_poi': 'NaN', 'poi': False, 'director_fees': 'NaN', 'deferred_income': -1386055, 'long_term_incentive': 1586055, 'email_address': 'NaN', 'from_poi_to_this_person': 'NaN'}\n",
      "--------------\n",
      "ELLIOTT STEVEN\n",
      "{'salary': 170941, 'to_messages': 'NaN', 'deferral_payments': 'NaN', 'total_payments': 211725, 'exercised_stock_options': 4890344, 'bonus': 350000, 'restricted_stock': 1788391, 'shared_receipt_with_poi': 'NaN', 'restricted_stock_deferred': 'NaN', 'total_stock_value': 6678735, 'expenses': 78552, 'loan_advances': 'NaN', 'from_messages': 'NaN', 'other': 12961, 'from_this_person_to_poi': 'NaN', 'poi': False, 'director_fees': 'NaN', 'deferred_income': -400729, 'long_term_incentive': 'NaN', 'email_address': 'steven.elliott@enron.com', 'from_poi_to_this_person': 'NaN'}\n",
      "--------------\n",
      "CORDES WILLIAM R\n",
      "{'salary': 'NaN', 'to_messages': 764, 'deferral_payments': 'NaN', 'total_payments': 'NaN', 'exercised_stock_options': 651850, 'bonus': 'NaN', 'restricted_stock': 386335, 'shared_receipt_with_poi': 58, 'restricted_stock_deferred': 'NaN', 'total_stock_value': 1038185, 'expenses': 'NaN', 'loan_advances': 'NaN', 'from_messages': 12, 'other': 'NaN', 'from_this_person_to_poi': 0, 'poi': False, 'director_fees': 'NaN', 'deferred_income': 'NaN', 'long_term_incentive': 'NaN', 'email_address': 'bill.cordes@enron.com', 'from_poi_to_this_person': 10}\n",
      "--------------\n",
      "HANNON KEVIN P\n",
      "{'salary': 243293, 'to_messages': 1045, 'deferral_payments': 'NaN', 'total_payments': 288682, 'exercised_stock_options': 5538001, 'bonus': 1500000, 'restricted_stock': 853064, 'shared_receipt_with_poi': 1035, 'restricted_stock_deferred': 'NaN', 'total_stock_value': 6391065, 'expenses': 34039, 'loan_advances': 'NaN', 'from_messages': 32, 'other': 11350, 'from_this_person_to_poi': 21, 'poi': True, 'director_fees': 'NaN', 'deferred_income': -3117011, 'long_term_incentive': 1617011, 'email_address': 'kevin.hannon@enron.com', 'from_poi_to_this_person': 32}\n",
      "--------------\n",
      "MORDAUNT KRISTINA M\n",
      "{'salary': 267093, 'to_messages': 'NaN', 'deferral_payments': 'NaN', 'total_payments': 628522, 'exercised_stock_options': 'NaN', 'bonus': 325000, 'restricted_stock': 208510, 'shared_receipt_with_poi': 'NaN', 'restricted_stock_deferred': 'NaN', 'total_stock_value': 208510, 'expenses': 35018, 'loan_advances': 'NaN', 'from_messages': 'NaN', 'other': 1411, 'from_this_person_to_poi': 'NaN', 'poi': False, 'director_fees': 'NaN', 'deferred_income': 'NaN', 'long_term_incentive': 'NaN', 'email_address': 'kristina.mordaunt@enron.com', 'from_poi_to_this_person': 'NaN'}\n",
      "--------------\n",
      "MEYER ROCKFORD G\n",
      "{'salary': 'NaN', 'to_messages': 232, 'deferral_payments': 1848227, 'total_payments': 1848227, 'exercised_stock_options': 493489, 'bonus': 'NaN', 'restricted_stock': 462384, 'shared_receipt_with_poi': 22, 'restricted_stock_deferred': 'NaN', 'total_stock_value': 955873, 'expenses': 'NaN', 'loan_advances': 'NaN', 'from_messages': 28, 'other': 'NaN', 'from_this_person_to_poi': 0, 'poi': False, 'director_fees': 'NaN', 'deferred_income': 'NaN', 'long_term_incentive': 'NaN', 'email_address': 'rockford.meyer@enron.com', 'from_poi_to_this_person': 0}\n",
      "--------------\n",
      "MCMAHON JEFFREY\n",
      "{'salary': 370448, 'to_messages': 2355, 'deferral_payments': 'NaN', 'total_payments': 4099771, 'exercised_stock_options': 1104054, 'bonus': 2600000, 'restricted_stock': 558801, 'shared_receipt_with_poi': 2228, 'restricted_stock_deferred': 'NaN', 'total_stock_value': 1662855, 'expenses': 137108, 'loan_advances': 'NaN', 'from_messages': 48, 'other': 297353, 'from_this_person_to_poi': 26, 'poi': False, 'director_fees': 'NaN', 'deferred_income': 'NaN', 'long_term_incentive': 694862, 'email_address': 'jeffrey.mcmahon@enron.com', 'from_poi_to_this_person': 58}\n",
      "--------------\n",
      "HORTON STANLEY C\n",
      "{'salary': 'NaN', 'to_messages': 2350, 'deferral_payments': 3131860, 'total_payments': 3131860, 'exercised_stock_options': 5210569, 'bonus': 'NaN', 'restricted_stock': 2046079, 'shared_receipt_with_poi': 1074, 'restricted_stock_deferred': 'NaN', 'total_stock_value': 7256648, 'expenses': 'NaN', 'loan_advances': 'NaN', 'from_messages': 1073, 'other': 'NaN', 'from_this_person_to_poi': 15, 'poi': False, 'director_fees': 'NaN', 'deferred_income': 'NaN', 'long_term_incentive': 'NaN', 'email_address': 'stanley.horton@enron.com', 'from_poi_to_this_person': 44}\n",
      "--------------\n",
      "PIPER GREGORY F\n",
      "{'salary': 197091, 'to_messages': 1238, 'deferral_payments': 1130036, 'total_payments': 1737629, 'exercised_stock_options': 880290, 'bonus': 400000, 'restricted_stock': 409554, 'shared_receipt_with_poi': 742, 'restricted_stock_deferred': -409554, 'total_stock_value': 880290, 'expenses': 43057, 'loan_advances': 'NaN', 'from_messages': 222, 'other': 778, 'from_this_person_to_poi': 48, 'poi': False, 'director_fees': 'NaN', 'deferred_income': -33333, 'long_term_incentive': 'NaN', 'email_address': 'greg.piper@enron.com', 'from_poi_to_this_person': 61}\n",
      "--------------\n",
      "HUMPHREY GENE E\n",
      "{'salary': 130724, 'to_messages': 128, 'deferral_payments': 2964506, 'total_payments': 3100224, 'exercised_stock_options': 2282768, 'bonus': 'NaN', 'restricted_stock': 'NaN', 'shared_receipt_with_poi': 119, 'restricted_stock_deferred': 'NaN', 'total_stock_value': 2282768, 'expenses': 4994, 'loan_advances': 'NaN', 'from_messages': 17, 'other': 'NaN', 'from_this_person_to_poi': 17, 'poi': False, 'director_fees': 'NaN', 'deferred_income': 'NaN', 'long_term_incentive': 'NaN', 'email_address': 'gene.humphrey@enron.com', 'from_poi_to_this_person': 10}\n",
      "--------------\n",
      "UMANOFF ADAM S\n",
      "{'salary': 288589, 'to_messages': 111, 'deferral_payments': 'NaN', 'total_payments': 1130461, 'exercised_stock_options': 'NaN', 'bonus': 788750, 'restricted_stock': 'NaN', 'shared_receipt_with_poi': 41, 'restricted_stock_deferred': 'NaN', 'total_stock_value': 'NaN', 'expenses': 53122, 'loan_advances': 'NaN', 'from_messages': 18, 'other': 'NaN', 'from_this_person_to_poi': 0, 'poi': False, 'director_fees': 'NaN', 'deferred_income': 'NaN', 'long_term_incentive': 'NaN', 'email_address': 'adam.umanoff@enron.com', 'from_poi_to_this_person': 12}\n",
      "--------------\n",
      "BLACHMAN JEREMY M\n",
      "{'salary': 248546, 'to_messages': 2475, 'deferral_payments': 'NaN', 'total_payments': 2014835, 'exercised_stock_options': 765313, 'bonus': 850000, 'restricted_stock': 189041, 'shared_receipt_with_poi': 2326, 'restricted_stock_deferred': 'NaN', 'total_stock_value': 954354, 'expenses': 84208, 'loan_advances': 'NaN', 'from_messages': 14, 'other': 272, 'from_this_person_to_poi': 2, 'poi': False, 'director_fees': 'NaN', 'deferred_income': 'NaN', 'long_term_incentive': 831809, 'email_address': 'jeremy.blachman@enron.com', 'from_poi_to_this_person': 25}\n",
      "--------------\n",
      "SUNDE MARTIN\n",
      "{'salary': 257486, 'to_messages': 2647, 'deferral_payments': 'NaN', 'total_payments': 1545059, 'exercised_stock_options': 'NaN', 'bonus': 700000, 'restricted_stock': 698920, 'shared_receipt_with_poi': 2565, 'restricted_stock_deferred': 'NaN', 'total_stock_value': 698920, 'expenses': 'NaN', 'loan_advances': 'NaN', 'from_messages': 38, 'other': 111122, 'from_this_person_to_poi': 13, 'poi': False, 'director_fees': 'NaN', 'deferred_income': 'NaN', 'long_term_incentive': 476451, 'email_address': 'marty.sunde@enron.com', 'from_poi_to_this_person': 37}\n",
      "--------------\n",
      "GIBBS DANA R\n",
      "{'salary': 'NaN', 'to_messages': 169, 'deferral_payments': 504610, 'total_payments': 966522, 'exercised_stock_options': 2218275, 'bonus': 'NaN', 'restricted_stock': 'NaN', 'shared_receipt_with_poi': 23, 'restricted_stock_deferred': 'NaN', 'total_stock_value': 2218275, 'expenses': 'NaN', 'loan_advances': 'NaN', 'from_messages': 12, 'other': 'NaN', 'from_this_person_to_poi': 0, 'poi': False, 'director_fees': 'NaN', 'deferred_income': 'NaN', 'long_term_incentive': 461912, 'email_address': 'dana.gibbs@enron.com', 'from_poi_to_this_person': 0}\n",
      "--------------\n",
      "LOWRY CHARLES P\n",
      "{'salary': 'NaN', 'to_messages': 'NaN', 'deferral_payments': 'NaN', 'total_payments': 'NaN', 'exercised_stock_options': 372205, 'bonus': 'NaN', 'restricted_stock': 153686, 'shared_receipt_with_poi': 'NaN', 'restricted_stock_deferred': -153686, 'total_stock_value': 372205, 'expenses': 'NaN', 'loan_advances': 'NaN', 'from_messages': 'NaN', 'other': 'NaN', 'from_this_person_to_poi': 'NaN', 'poi': False, 'director_fees': 'NaN', 'deferred_income': 'NaN', 'long_term_incentive': 'NaN', 'email_address': 'NaN', 'from_poi_to_this_person': 'NaN'}\n",
      "--------------\n",
      "COLWELL WESLEY\n",
      "{'salary': 288542, 'to_messages': 1758, 'deferral_payments': 27610, 'total_payments': 1490344, 'exercised_stock_options': 'NaN', 'bonus': 1200000, 'restricted_stock': 698242, 'shared_receipt_with_poi': 1132, 'restricted_stock_deferred': 'NaN', 'total_stock_value': 698242, 'expenses': 16514, 'loan_advances': 'NaN', 'from_messages': 40, 'other': 101740, 'from_this_person_to_poi': 11, 'poi': True, 'director_fees': 'NaN', 'deferred_income': -144062, 'long_term_incentive': 'NaN', 'email_address': 'wes.colwell@enron.com', 'from_poi_to_this_person': 240}\n",
      "--------------\n",
      "MULLER MARK S\n",
      "{'salary': 251654, 'to_messages': 136, 'deferral_payments': 842924, 'total_payments': 3202070, 'exercised_stock_options': 1056320, 'bonus': 1100000, 'restricted_stock': 360528, 'shared_receipt_with_poi': 114, 'restricted_stock_deferred': 'NaN', 'total_stock_value': 1416848, 'expenses': 'NaN', 'loan_advances': 'NaN', 'from_messages': 16, 'other': 947, 'from_this_person_to_poi': 0, 'poi': False, 'director_fees': 'NaN', 'deferred_income': -719000, 'long_term_incentive': 1725545, 'email_address': 's..muller@enron.com', 'from_poi_to_this_person': 12}\n",
      "--------------\n",
      "JACKSON CHARLENE R\n",
      "{'salary': 288558, 'to_messages': 258, 'deferral_payments': 'NaN', 'total_payments': 551174, 'exercised_stock_options': 185063, 'bonus': 250000, 'restricted_stock': 540672, 'shared_receipt_with_poi': 117, 'restricted_stock_deferred': 'NaN', 'total_stock_value': 725735, 'expenses': 10181, 'loan_advances': 'NaN', 'from_messages': 56, 'other': 2435, 'from_this_person_to_poi': 19, 'poi': False, 'director_fees': 'NaN', 'deferred_income': 'NaN', 'long_term_incentive': 'NaN', 'email_address': 'charlene.jackson@enron.com', 'from_poi_to_this_person': 25}\n",
      "--------------\n",
      "WESTFAHL RICHARD K\n",
      "{'salary': 63744, 'to_messages': 'NaN', 'deferral_payments': 'NaN', 'total_payments': 762135, 'exercised_stock_options': 'NaN', 'bonus': 'NaN', 'restricted_stock': 384930, 'shared_receipt_with_poi': 'NaN', 'restricted_stock_deferred': 'NaN', 'total_stock_value': 384930, 'expenses': 51870, 'loan_advances': 'NaN', 'from_messages': 'NaN', 'other': 401130, 'from_this_person_to_poi': 'NaN', 'poi': False, 'director_fees': 'NaN', 'deferred_income': -10800, 'long_term_incentive': 256191, 'email_address': 'dick.westfahl@enron.com', 'from_poi_to_this_person': 'NaN'}\n",
      "--------------\n",
      "WALTERS GARETH W\n",
      "{'salary': 'NaN', 'to_messages': 'NaN', 'deferral_payments': 53625, 'total_payments': 87410, 'exercised_stock_options': 1030329, 'bonus': 'NaN', 'restricted_stock': 'NaN', 'shared_receipt_with_poi': 'NaN', 'restricted_stock_deferred': 'NaN', 'total_stock_value': 1030329, 'expenses': 33785, 'loan_advances': 'NaN', 'from_messages': 'NaN', 'other': 'NaN', 'from_this_person_to_poi': 'NaN', 'poi': False, 'director_fees': 'NaN', 'deferred_income': 'NaN', 'long_term_incentive': 'NaN', 'email_address': 'NaN', 'from_poi_to_this_person': 'NaN'}\n",
      "--------------\n",
      "WALLS JR ROBERT H\n",
      "{'salary': 357091, 'to_messages': 671, 'deferral_payments': 'NaN', 'total_payments': 1798780, 'exercised_stock_options': 4346544, 'bonus': 850000, 'restricted_stock': 1552453, 'shared_receipt_with_poi': 215, 'restricted_stock_deferred': 'NaN', 'total_stock_value': 5898997, 'expenses': 50936, 'loan_advances': 'NaN', 'from_messages': 146, 'other': 2, 'from_this_person_to_poi': 0, 'poi': False, 'director_fees': 'NaN', 'deferred_income': 'NaN', 'long_term_incentive': 540751, 'email_address': 'rob.walls@enron.com', 'from_poi_to_this_person': 17}\n",
      "--------------\n",
      "KITCHEN LOUISE\n",
      "{'salary': 271442, 'to_messages': 8305, 'deferral_payments': 'NaN', 'total_payments': 3471141, 'exercised_stock_options': 81042, 'bonus': 3100000, 'restricted_stock': 466101, 'shared_receipt_with_poi': 3669, 'restricted_stock_deferred': 'NaN', 'total_stock_value': 547143, 'expenses': 5774, 'loan_advances': 'NaN', 'from_messages': 1728, 'other': 93925, 'from_this_person_to_poi': 194, 'poi': False, 'director_fees': 'NaN', 'deferred_income': 'NaN', 'long_term_incentive': 'NaN', 'email_address': 'louise.kitchen@enron.com', 'from_poi_to_this_person': 251}\n",
      "--------------\n",
      "CHAN RONNIE\n",
      "{'salary': 'NaN', 'to_messages': 'NaN', 'deferral_payments': 'NaN', 'total_payments': 'NaN', 'exercised_stock_options': 'NaN', 'bonus': 'NaN', 'restricted_stock': 32460, 'shared_receipt_with_poi': 'NaN', 'restricted_stock_deferred': -32460, 'total_stock_value': 'NaN', 'expenses': 'NaN', 'loan_advances': 'NaN', 'from_messages': 'NaN', 'other': 'NaN', 'from_this_person_to_poi': 'NaN', 'poi': False, 'director_fees': 98784, 'deferred_income': -98784, 'long_term_incentive': 'NaN', 'email_address': 'NaN', 'from_poi_to_this_person': 'NaN'}\n",
      "--------------\n",
      "BELFER ROBERT\n",
      "{'salary': 'NaN', 'to_messages': 'NaN', 'deferral_payments': -102500, 'total_payments': 102500, 'exercised_stock_options': 3285, 'bonus': 'NaN', 'restricted_stock': 'NaN', 'shared_receipt_with_poi': 'NaN', 'restricted_stock_deferred': 44093, 'total_stock_value': -44093, 'expenses': 'NaN', 'loan_advances': 'NaN', 'from_messages': 'NaN', 'other': 'NaN', 'from_this_person_to_poi': 'NaN', 'poi': False, 'director_fees': 3285, 'deferred_income': 'NaN', 'long_term_incentive': 'NaN', 'email_address': 'NaN', 'from_poi_to_this_person': 'NaN'}\n",
      "--------------\n",
      "SHANKMAN JEFFREY A\n",
      "{'salary': 304110, 'to_messages': 3221, 'deferral_payments': 'NaN', 'total_payments': 3038702, 'exercised_stock_options': 1441898, 'bonus': 2000000, 'restricted_stock': 630137, 'shared_receipt_with_poi': 1730, 'restricted_stock_deferred': 'NaN', 'total_stock_value': 2072035, 'expenses': 178979, 'loan_advances': 'NaN', 'from_messages': 2681, 'other': 1191, 'from_this_person_to_poi': 83, 'poi': False, 'director_fees': 'NaN', 'deferred_income': 'NaN', 'long_term_incentive': 554422, 'email_address': 'jeffrey.shankman@enron.com', 'from_poi_to_this_person': 94}\n",
      "--------------\n",
      "WODRASKA JOHN\n",
      "{'salary': 'NaN', 'to_messages': 'NaN', 'deferral_payments': 'NaN', 'total_payments': 189583, 'exercised_stock_options': 'NaN', 'bonus': 'NaN', 'restricted_stock': 'NaN', 'shared_receipt_with_poi': 'NaN', 'restricted_stock_deferred': 'NaN', 'total_stock_value': 'NaN', 'expenses': 'NaN', 'loan_advances': 'NaN', 'from_messages': 'NaN', 'other': 189583, 'from_this_person_to_poi': 'NaN', 'poi': False, 'director_fees': 'NaN', 'deferred_income': 'NaN', 'long_term_incentive': 'NaN', 'email_address': 'john.wodraska@enron.com', 'from_poi_to_this_person': 'NaN'}\n",
      "--------------\n",
      "BERGSIEKER RICHARD P\n",
      "{'salary': 187922, 'to_messages': 383, 'deferral_payments': 'NaN', 'total_payments': 618850, 'exercised_stock_options': 'NaN', 'bonus': 250000, 'restricted_stock': 659249, 'shared_receipt_with_poi': 233, 'restricted_stock_deferred': 'NaN', 'total_stock_value': 659249, 'expenses': 59175, 'loan_advances': 'NaN', 'from_messages': 59, 'other': 427316, 'from_this_person_to_poi': 0, 'poi': False, 'director_fees': 'NaN', 'deferred_income': -485813, 'long_term_incentive': 180250, 'email_address': 'rick.bergsieker@enron.com', 'from_poi_to_this_person': 4}\n",
      "--------------\n",
      "URQUHART JOHN A\n",
      "{'salary': 'NaN', 'to_messages': 'NaN', 'deferral_payments': 'NaN', 'total_payments': 228656, 'exercised_stock_options': 'NaN', 'bonus': 'NaN', 'restricted_stock': 'NaN', 'shared_receipt_with_poi': 'NaN', 'restricted_stock_deferred': 'NaN', 'total_stock_value': 'NaN', 'expenses': 228656, 'loan_advances': 'NaN', 'from_messages': 'NaN', 'other': 'NaN', 'from_this_person_to_poi': 'NaN', 'poi': False, 'director_fees': 36666, 'deferred_income': -36666, 'long_term_incentive': 'NaN', 'email_address': 'NaN', 'from_poi_to_this_person': 'NaN'}\n",
      "--------------\n",
      "BIBI PHILIPPE A\n",
      "{'salary': 213625, 'to_messages': 1607, 'deferral_payments': 'NaN', 'total_payments': 2047593, 'exercised_stock_options': 1465734, 'bonus': 1000000, 'restricted_stock': 378082, 'shared_receipt_with_poi': 1336, 'restricted_stock_deferred': 'NaN', 'total_stock_value': 1843816, 'expenses': 38559, 'loan_advances': 'NaN', 'from_messages': 40, 'other': 425688, 'from_this_person_to_poi': 8, 'poi': False, 'director_fees': 'NaN', 'deferred_income': 'NaN', 'long_term_incentive': 369721, 'email_address': 'philippe.bibi@enron.com', 'from_poi_to_this_person': 23}\n",
      "--------------\n",
      "RIEKER PAULA H\n",
      "{'salary': 249201, 'to_messages': 1328, 'deferral_payments': 214678, 'total_payments': 1099100, 'exercised_stock_options': 1635238, 'bonus': 700000, 'restricted_stock': 283649, 'shared_receipt_with_poi': 1258, 'restricted_stock_deferred': 'NaN', 'total_stock_value': 1918887, 'expenses': 33271, 'loan_advances': 'NaN', 'from_messages': 82, 'other': 1950, 'from_this_person_to_poi': 48, 'poi': True, 'director_fees': 'NaN', 'deferred_income': -100000, 'long_term_incentive': 'NaN', 'email_address': 'paula.rieker@enron.com', 'from_poi_to_this_person': 35}\n",
      "--------------\n",
      "WHALEY DAVID A\n",
      "{'salary': 'NaN', 'to_messages': 'NaN', 'deferral_payments': 'NaN', 'total_payments': 'NaN', 'exercised_stock_options': 98718, 'bonus': 'NaN', 'restricted_stock': 'NaN', 'shared_receipt_with_poi': 'NaN', 'restricted_stock_deferred': 'NaN', 'total_stock_value': 98718, 'expenses': 'NaN', 'loan_advances': 'NaN', 'from_messages': 'NaN', 'other': 'NaN', 'from_this_person_to_poi': 'NaN', 'poi': False, 'director_fees': 'NaN', 'deferred_income': 'NaN', 'long_term_incentive': 'NaN', 'email_address': 'NaN', 'from_poi_to_this_person': 'NaN'}\n",
      "--------------\n",
      "BECK SALLY W\n",
      "{'salary': 231330, 'to_messages': 7315, 'deferral_payments': 'NaN', 'total_payments': 969068, 'exercised_stock_options': 'NaN', 'bonus': 700000, 'restricted_stock': 126027, 'shared_receipt_with_poi': 2639, 'restricted_stock_deferred': 'NaN', 'total_stock_value': 126027, 'expenses': 37172, 'loan_advances': 'NaN', 'from_messages': 4343, 'other': 566, 'from_this_person_to_poi': 386, 'poi': False, 'director_fees': 'NaN', 'deferred_income': 'NaN', 'long_term_incentive': 'NaN', 'email_address': 'sally.beck@enron.com', 'from_poi_to_this_person': 144}\n",
      "--------------\n",
      "HAUG DAVID L\n",
      "{'salary': 'NaN', 'to_messages': 573, 'deferral_payments': 'NaN', 'total_payments': 475, 'exercised_stock_options': 'NaN', 'bonus': 'NaN', 'restricted_stock': 2217299, 'shared_receipt_with_poi': 471, 'restricted_stock_deferred': 'NaN', 'total_stock_value': 2217299, 'expenses': 475, 'loan_advances': 'NaN', 'from_messages': 19, 'other': 'NaN', 'from_this_person_to_poi': 7, 'poi': False, 'director_fees': 'NaN', 'deferred_income': 'NaN', 'long_term_incentive': 'NaN', 'email_address': 'david.haug@enron.com', 'from_poi_to_this_person': 4}\n",
      "--------------\n",
      "ECHOLS JOHN B\n",
      "{'salary': 182245, 'to_messages': 'NaN', 'deferral_payments': 'NaN', 'total_payments': 2692324, 'exercised_stock_options': 601438, 'bonus': 200000, 'restricted_stock': 407503, 'shared_receipt_with_poi': 'NaN', 'restricted_stock_deferred': 'NaN', 'total_stock_value': 1008941, 'expenses': 21530, 'loan_advances': 'NaN', 'from_messages': 'NaN', 'other': 53775, 'from_this_person_to_poi': 'NaN', 'poi': False, 'director_fees': 'NaN', 'deferred_income': 'NaN', 'long_term_incentive': 2234774, 'email_address': 'john.echols@enron.com', 'from_poi_to_this_person': 'NaN'}\n",
      "--------------\n",
      "MENDELSOHN JOHN\n",
      "{'salary': 'NaN', 'to_messages': 'NaN', 'deferral_payments': 'NaN', 'total_payments': 148, 'exercised_stock_options': 'NaN', 'bonus': 'NaN', 'restricted_stock': 'NaN', 'shared_receipt_with_poi': 'NaN', 'restricted_stock_deferred': 'NaN', 'total_stock_value': 'NaN', 'expenses': 148, 'loan_advances': 'NaN', 'from_messages': 'NaN', 'other': 'NaN', 'from_this_person_to_poi': 'NaN', 'poi': False, 'director_fees': 103750, 'deferred_income': -103750, 'long_term_incentive': 'NaN', 'email_address': 'NaN', 'from_poi_to_this_person': 'NaN'}\n",
      "--------------\n",
      "HICKERSON GARY J\n",
      "{'salary': 211788, 'to_messages': 1320, 'deferral_payments': 'NaN', 'total_payments': 2081796, 'exercised_stock_options': 'NaN', 'bonus': 1700000, 'restricted_stock': 441096, 'shared_receipt_with_poi': 900, 'restricted_stock_deferred': 'NaN', 'total_stock_value': 441096, 'expenses': 98849, 'loan_advances': 'NaN', 'from_messages': 27, 'other': 1936, 'from_this_person_to_poi': 1, 'poi': False, 'director_fees': 'NaN', 'deferred_income': 'NaN', 'long_term_incentive': 69223, 'email_address': 'gary.hickerson@enron.com', 'from_poi_to_this_person': 40}\n",
      "--------------\n",
      "CLINE KENNETH W\n",
      "{'salary': 'NaN', 'to_messages': 'NaN', 'deferral_payments': 'NaN', 'total_payments': 'NaN', 'exercised_stock_options': 'NaN', 'bonus': 'NaN', 'restricted_stock': 662086, 'shared_receipt_with_poi': 'NaN', 'restricted_stock_deferred': -472568, 'total_stock_value': 189518, 'expenses': 'NaN', 'loan_advances': 'NaN', 'from_messages': 'NaN', 'other': 'NaN', 'from_this_person_to_poi': 'NaN', 'poi': False, 'director_fees': 'NaN', 'deferred_income': 'NaN', 'long_term_incentive': 'NaN', 'email_address': 'NaN', 'from_poi_to_this_person': 'NaN'}\n",
      "--------------\n",
      "LEWIS RICHARD\n",
      "{'salary': 'NaN', 'to_messages': 952, 'deferral_payments': 'NaN', 'total_payments': 'NaN', 'exercised_stock_options': 850477, 'bonus': 'NaN', 'restricted_stock': 'NaN', 'shared_receipt_with_poi': 739, 'restricted_stock_deferred': 'NaN', 'total_stock_value': 850477, 'expenses': 'NaN', 'loan_advances': 'NaN', 'from_messages': 26, 'other': 'NaN', 'from_this_person_to_poi': 0, 'poi': False, 'director_fees': 'NaN', 'deferred_income': 'NaN', 'long_term_incentive': 'NaN', 'email_address': 'richard.lewis@enron.com', 'from_poi_to_this_person': 10}\n",
      "--------------\n",
      "HAYES ROBERT E\n",
      "{'salary': 'NaN', 'to_messages': 504, 'deferral_payments': 7961, 'total_payments': 7961, 'exercised_stock_options': 'NaN', 'bonus': 'NaN', 'restricted_stock': 151418, 'shared_receipt_with_poi': 50, 'restricted_stock_deferred': 'NaN', 'total_stock_value': 151418, 'expenses': 'NaN', 'loan_advances': 'NaN', 'from_messages': 12, 'other': 'NaN', 'from_this_person_to_poi': 0, 'poi': False, 'director_fees': 'NaN', 'deferred_income': 'NaN', 'long_term_incentive': 'NaN', 'email_address': 'robert.hayes@enron.com', 'from_poi_to_this_person': 16}\n",
      "--------------\n",
      "MCCARTY DANNY J\n",
      "{'salary': 'NaN', 'to_messages': 1433, 'deferral_payments': 'NaN', 'total_payments': 'NaN', 'exercised_stock_options': 664375, 'bonus': 'NaN', 'restricted_stock': 94556, 'shared_receipt_with_poi': 508, 'restricted_stock_deferred': 'NaN', 'total_stock_value': 758931, 'expenses': 'NaN', 'loan_advances': 'NaN', 'from_messages': 215, 'other': 'NaN', 'from_this_person_to_poi': 2, 'poi': False, 'director_fees': 'NaN', 'deferred_income': 'NaN', 'long_term_incentive': 'NaN', 'email_address': 'danny.mccarty@enron.com', 'from_poi_to_this_person': 25}\n",
      "--------------\n",
      "KOPPER MICHAEL J\n",
      "{'salary': 224305, 'to_messages': 'NaN', 'deferral_payments': 'NaN', 'total_payments': 2652612, 'exercised_stock_options': 'NaN', 'bonus': 800000, 'restricted_stock': 985032, 'shared_receipt_with_poi': 'NaN', 'restricted_stock_deferred': 'NaN', 'total_stock_value': 985032, 'expenses': 118134, 'loan_advances': 'NaN', 'from_messages': 'NaN', 'other': 907502, 'from_this_person_to_poi': 'NaN', 'poi': True, 'director_fees': 'NaN', 'deferred_income': 'NaN', 'long_term_incentive': 602671, 'email_address': 'michael.kopper@enron.com', 'from_poi_to_this_person': 'NaN'}\n",
      "--------------\n",
      "LEFF DANIEL P\n",
      "{'salary': 273746, 'to_messages': 2822, 'deferral_payments': 'NaN', 'total_payments': 2664228, 'exercised_stock_options': 'NaN', 'bonus': 1000000, 'restricted_stock': 360528, 'shared_receipt_with_poi': 2672, 'restricted_stock_deferred': 'NaN', 'total_stock_value': 360528, 'expenses': 'NaN', 'loan_advances': 'NaN', 'from_messages': 63, 'other': 3083, 'from_this_person_to_poi': 14, 'poi': False, 'director_fees': 'NaN', 'deferred_income': 'NaN', 'long_term_incentive': 1387399, 'email_address': 'dan.leff@enron.com', 'from_poi_to_this_person': 67}\n",
      "--------------\n",
      "LAVORATO JOHN J\n",
      "{'salary': 339288, 'to_messages': 7259, 'deferral_payments': 'NaN', 'total_payments': 10425757, 'exercised_stock_options': 4158995, 'bonus': 8000000, 'restricted_stock': 1008149, 'shared_receipt_with_poi': 3962, 'restricted_stock_deferred': 'NaN', 'total_stock_value': 5167144, 'expenses': 49537, 'loan_advances': 'NaN', 'from_messages': 2585, 'other': 1552, 'from_this_person_to_poi': 411, 'poi': False, 'director_fees': 'NaN', 'deferred_income': 'NaN', 'long_term_incentive': 2035380, 'email_address': 'john.lavorato@enron.com', 'from_poi_to_this_person': 528}\n",
      "--------------\n",
      "BERBERIAN DAVID\n",
      "{'salary': 216582, 'to_messages': 'NaN', 'deferral_payments': 'NaN', 'total_payments': 228474, 'exercised_stock_options': 1624396, 'bonus': 'NaN', 'restricted_stock': 869220, 'shared_receipt_with_poi': 'NaN', 'restricted_stock_deferred': 'NaN', 'total_stock_value': 2493616, 'expenses': 11892, 'loan_advances': 'NaN', 'from_messages': 'NaN', 'other': 'NaN', 'from_this_person_to_poi': 'NaN', 'poi': False, 'director_fees': 'NaN', 'deferred_income': 'NaN', 'long_term_incentive': 'NaN', 'email_address': 'david.berberian@enron.com', 'from_poi_to_this_person': 'NaN'}\n",
      "--------------\n",
      "DETMERING TIMOTHY J\n",
      "{'salary': 210500, 'to_messages': 'NaN', 'deferral_payments': 875307, 'total_payments': 1204583, 'exercised_stock_options': 2027865, 'bonus': 425000, 'restricted_stock': 315068, 'shared_receipt_with_poi': 'NaN', 'restricted_stock_deferred': -315068, 'total_stock_value': 2027865, 'expenses': 52255, 'loan_advances': 'NaN', 'from_messages': 'NaN', 'other': 1105, 'from_this_person_to_poi': 'NaN', 'poi': False, 'director_fees': 'NaN', 'deferred_income': -775241, 'long_term_incentive': 415657, 'email_address': 'timothy.detmering@enron.com', 'from_poi_to_this_person': 'NaN'}\n",
      "--------------\n",
      "WAKEHAM JOHN\n",
      "{'salary': 'NaN', 'to_messages': 'NaN', 'deferral_payments': 'NaN', 'total_payments': 213071, 'exercised_stock_options': 'NaN', 'bonus': 'NaN', 'restricted_stock': 'NaN', 'shared_receipt_with_poi': 'NaN', 'restricted_stock_deferred': 'NaN', 'total_stock_value': 'NaN', 'expenses': 103773, 'loan_advances': 'NaN', 'from_messages': 'NaN', 'other': 'NaN', 'from_this_person_to_poi': 'NaN', 'poi': False, 'director_fees': 109298, 'deferred_income': 'NaN', 'long_term_incentive': 'NaN', 'email_address': 'NaN', 'from_poi_to_this_person': 'NaN'}\n",
      "--------------\n",
      "POWERS WILLIAM\n",
      "{'salary': 'NaN', 'to_messages': 653, 'deferral_payments': 'NaN', 'total_payments': 'NaN', 'exercised_stock_options': 'NaN', 'bonus': 'NaN', 'restricted_stock': 'NaN', 'shared_receipt_with_poi': 12, 'restricted_stock_deferred': 'NaN', 'total_stock_value': 'NaN', 'expenses': 'NaN', 'loan_advances': 'NaN', 'from_messages': 26, 'other': 'NaN', 'from_this_person_to_poi': 0, 'poi': False, 'director_fees': 17500, 'deferred_income': -17500, 'long_term_incentive': 'NaN', 'email_address': 'ken.powers@enron.com', 'from_poi_to_this_person': 0}\n",
      "--------------\n",
      "GOLD JOSEPH\n",
      "{'salary': 272880, 'to_messages': 'NaN', 'deferral_payments': 'NaN', 'total_payments': 2146973, 'exercised_stock_options': 436515, 'bonus': 750000, 'restricted_stock': 441096, 'shared_receipt_with_poi': 'NaN', 'restricted_stock_deferred': 'NaN', 'total_stock_value': 877611, 'expenses': 'NaN', 'loan_advances': 'NaN', 'from_messages': 'NaN', 'other': 819288, 'from_this_person_to_poi': 'NaN', 'poi': False, 'director_fees': 'NaN', 'deferred_income': 'NaN', 'long_term_incentive': 304805, 'email_address': 'joe.gold@enron.com', 'from_poi_to_this_person': 'NaN'}\n",
      "--------------\n",
      "BANNANTINE JAMES M\n",
      "{'salary': 477, 'to_messages': 566, 'deferral_payments': 'NaN', 'total_payments': 916197, 'exercised_stock_options': 4046157, 'bonus': 'NaN', 'restricted_stock': 1757552, 'shared_receipt_with_poi': 465, 'restricted_stock_deferred': -560222, 'total_stock_value': 5243487, 'expenses': 56301, 'loan_advances': 'NaN', 'from_messages': 29, 'other': 864523, 'from_this_person_to_poi': 0, 'poi': False, 'director_fees': 'NaN', 'deferred_income': -5104, 'long_term_incentive': 'NaN', 'email_address': 'james.bannantine@enron.com', 'from_poi_to_this_person': 39}\n",
      "--------------\n",
      "DUNCAN JOHN H\n",
      "{'salary': 'NaN', 'to_messages': 'NaN', 'deferral_payments': 'NaN', 'total_payments': 77492, 'exercised_stock_options': 371750, 'bonus': 'NaN', 'restricted_stock': 'NaN', 'shared_receipt_with_poi': 'NaN', 'restricted_stock_deferred': 'NaN', 'total_stock_value': 371750, 'expenses': 'NaN', 'loan_advances': 'NaN', 'from_messages': 'NaN', 'other': 'NaN', 'from_this_person_to_poi': 'NaN', 'poi': False, 'director_fees': 102492, 'deferred_income': -25000, 'long_term_incentive': 'NaN', 'email_address': 'NaN', 'from_poi_to_this_person': 'NaN'}\n",
      "--------------\n",
      "SHAPIRO RICHARD S\n",
      "{'salary': 269076, 'to_messages': 15149, 'deferral_payments': 'NaN', 'total_payments': 1057548, 'exercised_stock_options': 607837, 'bonus': 650000, 'restricted_stock': 379164, 'shared_receipt_with_poi': 4527, 'restricted_stock_deferred': 'NaN', 'total_stock_value': 987001, 'expenses': 137767, 'loan_advances': 'NaN', 'from_messages': 1215, 'other': 705, 'from_this_person_to_poi': 65, 'poi': False, 'director_fees': 'NaN', 'deferred_income': 'NaN', 'long_term_incentive': 'NaN', 'email_address': 'richard.shapiro@enron.com', 'from_poi_to_this_person': 74}\n",
      "--------------\n",
      "SHERRIFF JOHN R\n",
      "{'salary': 428780, 'to_messages': 3187, 'deferral_payments': 'NaN', 'total_payments': 4335388, 'exercised_stock_options': 1835558, 'bonus': 1500000, 'restricted_stock': 1293424, 'shared_receipt_with_poi': 2103, 'restricted_stock_deferred': 'NaN', 'total_stock_value': 3128982, 'expenses': 'NaN', 'loan_advances': 'NaN', 'from_messages': 92, 'other': 1852186, 'from_this_person_to_poi': 23, 'poi': False, 'director_fees': 'NaN', 'deferred_income': 'NaN', 'long_term_incentive': 554422, 'email_address': 'john.sherriff@enron.com', 'from_poi_to_this_person': 28}\n",
      "--------------\n",
      "SHELBY REX\n",
      "{'salary': 211844, 'to_messages': 225, 'deferral_payments': 'NaN', 'total_payments': 2003885, 'exercised_stock_options': 1624396, 'bonus': 200000, 'restricted_stock': 869220, 'shared_receipt_with_poi': 91, 'restricted_stock_deferred': 'NaN', 'total_stock_value': 2493616, 'expenses': 22884, 'loan_advances': 'NaN', 'from_messages': 39, 'other': 1573324, 'from_this_person_to_poi': 14, 'poi': True, 'director_fees': 'NaN', 'deferred_income': -4167, 'long_term_incentive': 'NaN', 'email_address': 'rex.shelby@enron.com', 'from_poi_to_this_person': 13}\n",
      "--------------\n",
      "LEMAISTRE CHARLES\n",
      "{'salary': 'NaN', 'to_messages': 'NaN', 'deferral_payments': 'NaN', 'total_payments': 87492, 'exercised_stock_options': 412878, 'bonus': 'NaN', 'restricted_stock': 'NaN', 'shared_receipt_with_poi': 'NaN', 'restricted_stock_deferred': 'NaN', 'total_stock_value': 412878, 'expenses': 'NaN', 'loan_advances': 'NaN', 'from_messages': 'NaN', 'other': 'NaN', 'from_this_person_to_poi': 'NaN', 'poi': False, 'director_fees': 112492, 'deferred_income': -25000, 'long_term_incentive': 'NaN', 'email_address': 'NaN', 'from_poi_to_this_person': 'NaN'}\n",
      "--------------\n",
      "DEFFNER JOSEPH M\n",
      "{'salary': 206121, 'to_messages': 714, 'deferral_payments': 'NaN', 'total_payments': 1208649, 'exercised_stock_options': 17378, 'bonus': 600000, 'restricted_stock': 141833, 'shared_receipt_with_poi': 552, 'restricted_stock_deferred': 'NaN', 'total_stock_value': 159211, 'expenses': 41626, 'loan_advances': 'NaN', 'from_messages': 74, 'other': 25553, 'from_this_person_to_poi': 4, 'poi': False, 'director_fees': 'NaN', 'deferred_income': 'NaN', 'long_term_incentive': 335349, 'email_address': 'joseph.deffner@enron.com', 'from_poi_to_this_person': 115}\n",
      "--------------\n",
      "KISHKILL JOSEPH G\n",
      "{'salary': 174246, 'to_messages': 'NaN', 'deferral_payments': 'NaN', 'total_payments': 704896, 'exercised_stock_options': 'NaN', 'bonus': 'NaN', 'restricted_stock': 1034346, 'shared_receipt_with_poi': 'NaN', 'restricted_stock_deferred': 'NaN', 'total_stock_value': 1034346, 'expenses': 116335, 'loan_advances': 'NaN', 'from_messages': 'NaN', 'other': 465357, 'from_this_person_to_poi': 'NaN', 'poi': False, 'director_fees': 'NaN', 'deferred_income': -51042, 'long_term_incentive': 'NaN', 'email_address': 'joe.kishkill@enron.com', 'from_poi_to_this_person': 'NaN'}\n",
      "--------------\n",
      "WHALLEY LAWRENCE G\n",
      "{'salary': 510364, 'to_messages': 6019, 'deferral_payments': 'NaN', 'total_payments': 4677574, 'exercised_stock_options': 3282960, 'bonus': 3000000, 'restricted_stock': 2796177, 'shared_receipt_with_poi': 3920, 'restricted_stock_deferred': 'NaN', 'total_stock_value': 6079137, 'expenses': 57838, 'loan_advances': 'NaN', 'from_messages': 556, 'other': 301026, 'from_this_person_to_poi': 24, 'poi': False, 'director_fees': 'NaN', 'deferred_income': 'NaN', 'long_term_incentive': 808346, 'email_address': 'greg.whalley@enron.com', 'from_poi_to_this_person': 186}\n",
      "--------------\n",
      "MCCONNELL MICHAEL S\n",
      "{'salary': 365038, 'to_messages': 3329, 'deferral_payments': 'NaN', 'total_payments': 2101364, 'exercised_stock_options': 1623010, 'bonus': 1100000, 'restricted_stock': 1478269, 'shared_receipt_with_poi': 2189, 'restricted_stock_deferred': 'NaN', 'total_stock_value': 3101279, 'expenses': 81364, 'loan_advances': 'NaN', 'from_messages': 2742, 'other': 540, 'from_this_person_to_poi': 194, 'poi': False, 'director_fees': 'NaN', 'deferred_income': 'NaN', 'long_term_incentive': 554422, 'email_address': 'mike.mcconnell@enron.com', 'from_poi_to_this_person': 92}\n",
      "--------------\n",
      "PIRO JIM\n",
      "{'salary': 'NaN', 'to_messages': 58, 'deferral_payments': 'NaN', 'total_payments': 'NaN', 'exercised_stock_options': 'NaN', 'bonus': 'NaN', 'restricted_stock': 47304, 'shared_receipt_with_poi': 3, 'restricted_stock_deferred': 'NaN', 'total_stock_value': 47304, 'expenses': 'NaN', 'loan_advances': 'NaN', 'from_messages': 16, 'other': 'NaN', 'from_this_person_to_poi': 1, 'poi': False, 'director_fees': 'NaN', 'deferred_income': 'NaN', 'long_term_incentive': 'NaN', 'email_address': 'jim.piro@enron.com', 'from_poi_to_this_person': 0}\n",
      "--------------\n",
      "DELAINEY DAVID W\n",
      "{'salary': 365163, 'to_messages': 3093, 'deferral_payments': 'NaN', 'total_payments': 4747979, 'exercised_stock_options': 2291113, 'bonus': 3000000, 'restricted_stock': 1323148, 'shared_receipt_with_poi': 2097, 'restricted_stock_deferred': 'NaN', 'total_stock_value': 3614261, 'expenses': 86174, 'loan_advances': 'NaN', 'from_messages': 3069, 'other': 1661, 'from_this_person_to_poi': 609, 'poi': True, 'director_fees': 'NaN', 'deferred_income': 'NaN', 'long_term_incentive': 1294981, 'email_address': 'david.delainey@enron.com', 'from_poi_to_this_person': 66}\n",
      "--------------\n",
      "SULLIVAN-SHAKLOVITZ COLLEEN\n",
      "{'salary': 162779, 'to_messages': 'NaN', 'deferral_payments': 181993, 'total_payments': 999356, 'exercised_stock_options': 1362375, 'bonus': 100000, 'restricted_stock': 'NaN', 'shared_receipt_with_poi': 'NaN', 'restricted_stock_deferred': 'NaN', 'total_stock_value': 1362375, 'expenses': 'NaN', 'loan_advances': 'NaN', 'from_messages': 'NaN', 'other': 162, 'from_this_person_to_poi': 'NaN', 'poi': False, 'director_fees': 'NaN', 'deferred_income': 'NaN', 'long_term_incentive': 554422, 'email_address': 'NaN', 'from_poi_to_this_person': 'NaN'}\n",
      "--------------\n",
      "WROBEL BRUCE\n",
      "{'salary': 'NaN', 'to_messages': 'NaN', 'deferral_payments': 'NaN', 'total_payments': 'NaN', 'exercised_stock_options': 139130, 'bonus': 'NaN', 'restricted_stock': 'NaN', 'shared_receipt_with_poi': 'NaN', 'restricted_stock_deferred': 'NaN', 'total_stock_value': 139130, 'expenses': 'NaN', 'loan_advances': 'NaN', 'from_messages': 'NaN', 'other': 'NaN', 'from_this_person_to_poi': 'NaN', 'poi': False, 'director_fees': 'NaN', 'deferred_income': 'NaN', 'long_term_incentive': 'NaN', 'email_address': 'NaN', 'from_poi_to_this_person': 'NaN'}\n",
      "--------------\n",
      "LINDHOLM TOD A\n",
      "{'salary': 236457, 'to_messages': 'NaN', 'deferral_payments': 204075, 'total_payments': 875889, 'exercised_stock_options': 2549361, 'bonus': 200000, 'restricted_stock': 514847, 'shared_receipt_with_poi': 'NaN', 'restricted_stock_deferred': 'NaN', 'total_stock_value': 3064208, 'expenses': 57727, 'loan_advances': 'NaN', 'from_messages': 'NaN', 'other': 2630, 'from_this_person_to_poi': 'NaN', 'poi': False, 'director_fees': 'NaN', 'deferred_income': 'NaN', 'long_term_incentive': 175000, 'email_address': 'tod.lindholm@enron.com', 'from_poi_to_this_person': 'NaN'}\n",
      "--------------\n",
      "MEYER JEROME J\n",
      "{'salary': 'NaN', 'to_messages': 'NaN', 'deferral_payments': 'NaN', 'total_payments': 2151, 'exercised_stock_options': 'NaN', 'bonus': 'NaN', 'restricted_stock': 'NaN', 'shared_receipt_with_poi': 'NaN', 'restricted_stock_deferred': 'NaN', 'total_stock_value': 'NaN', 'expenses': 2151, 'loan_advances': 'NaN', 'from_messages': 'NaN', 'other': 'NaN', 'from_this_person_to_poi': 'NaN', 'poi': False, 'director_fees': 38346, 'deferred_income': -38346, 'long_term_incentive': 'NaN', 'email_address': 'NaN', 'from_poi_to_this_person': 'NaN'}\n",
      "--------------\n",
      "LAY KENNETH L\n",
      "{'salary': 1072321, 'to_messages': 4273, 'deferral_payments': 202911, 'total_payments': 103559793, 'exercised_stock_options': 34348384, 'bonus': 7000000, 'restricted_stock': 14761694, 'shared_receipt_with_poi': 2411, 'restricted_stock_deferred': 'NaN', 'total_stock_value': 49110078, 'expenses': 99832, 'loan_advances': 81525000, 'from_messages': 36, 'other': 10359729, 'from_this_person_to_poi': 16, 'poi': True, 'director_fees': 'NaN', 'deferred_income': -300000, 'long_term_incentive': 3600000, 'email_address': 'kenneth.lay@enron.com', 'from_poi_to_this_person': 123}\n",
      "--------------\n",
      "BUTTS ROBERT H\n",
      "{'salary': 261516, 'to_messages': 'NaN', 'deferral_payments': 'NaN', 'total_payments': 1271582, 'exercised_stock_options': 'NaN', 'bonus': 750000, 'restricted_stock': 417619, 'shared_receipt_with_poi': 'NaN', 'restricted_stock_deferred': 'NaN', 'total_stock_value': 417619, 'expenses': 9410, 'loan_advances': 'NaN', 'from_messages': 'NaN', 'other': 150656, 'from_this_person_to_poi': 'NaN', 'poi': False, 'director_fees': 'NaN', 'deferred_income': -75000, 'long_term_incentive': 175000, 'email_address': 'bob.butts@enron.com', 'from_poi_to_this_person': 'NaN'}\n",
      "--------------\n",
      "OLSON CINDY K\n",
      "{'salary': 329078, 'to_messages': 1184, 'deferral_payments': 77716, 'total_payments': 1321557, 'exercised_stock_options': 1637034, 'bonus': 750000, 'restricted_stock': 969729, 'shared_receipt_with_poi': 856, 'restricted_stock_deferred': 'NaN', 'total_stock_value': 2606763, 'expenses': 63791, 'loan_advances': 'NaN', 'from_messages': 52, 'other': 972, 'from_this_person_to_poi': 15, 'poi': False, 'director_fees': 'NaN', 'deferred_income': 'NaN', 'long_term_incentive': 100000, 'email_address': 'cindy.olson@enron.com', 'from_poi_to_this_person': 20}\n",
      "--------------\n",
      "MCDONALD REBECCA\n",
      "{'salary': 'NaN', 'to_messages': 894, 'deferral_payments': 'NaN', 'total_payments': 'NaN', 'exercised_stock_options': 757301, 'bonus': 'NaN', 'restricted_stock': 934065, 'shared_receipt_with_poi': 720, 'restricted_stock_deferred': 'NaN', 'total_stock_value': 1691366, 'expenses': 'NaN', 'loan_advances': 'NaN', 'from_messages': 13, 'other': 'NaN', 'from_this_person_to_poi': 1, 'poi': False, 'director_fees': 'NaN', 'deferred_income': 'NaN', 'long_term_incentive': 'NaN', 'email_address': 'rebecca.mcdonald@enron.com', 'from_poi_to_this_person': 54}\n",
      "--------------\n",
      "CUMBERLAND MICHAEL S\n",
      "{'salary': 184899, 'to_messages': 'NaN', 'deferral_payments': 'NaN', 'total_payments': 807956, 'exercised_stock_options': 'NaN', 'bonus': 325000, 'restricted_stock': 207940, 'shared_receipt_with_poi': 'NaN', 'restricted_stock_deferred': 'NaN', 'total_stock_value': 207940, 'expenses': 22344, 'loan_advances': 'NaN', 'from_messages': 'NaN', 'other': 713, 'from_this_person_to_poi': 'NaN', 'poi': False, 'director_fees': 'NaN', 'deferred_income': 'NaN', 'long_term_incentive': 275000, 'email_address': 'NaN', 'from_poi_to_this_person': 'NaN'}\n",
      "--------------\n",
      "GAHN ROBERT S\n",
      "{'salary': 192008, 'to_messages': 'NaN', 'deferral_payments': 73122, 'total_payments': 900585, 'exercised_stock_options': 83237, 'bonus': 509870, 'restricted_stock': 235370, 'shared_receipt_with_poi': 'NaN', 'restricted_stock_deferred': 'NaN', 'total_stock_value': 318607, 'expenses': 50080, 'loan_advances': 'NaN', 'from_messages': 'NaN', 'other': 76547, 'from_this_person_to_poi': 'NaN', 'poi': False, 'director_fees': 'NaN', 'deferred_income': -1042, 'long_term_incentive': 'NaN', 'email_address': 'NaN', 'from_poi_to_this_person': 'NaN'}\n",
      "--------------\n",
      "MCCLELLAN GEORGE\n",
      "{'salary': 263413, 'to_messages': 1744, 'deferral_payments': 'NaN', 'total_payments': 1318763, 'exercised_stock_options': 506765, 'bonus': 900000, 'restricted_stock': 441096, 'shared_receipt_with_poi': 1469, 'restricted_stock_deferred': 'NaN', 'total_stock_value': 947861, 'expenses': 228763, 'loan_advances': 'NaN', 'from_messages': 49, 'other': 51587, 'from_this_person_to_poi': 0, 'poi': False, 'director_fees': 'NaN', 'deferred_income': -125000, 'long_term_incentive': 'NaN', 'email_address': 'george.mcclellan@enron.com', 'from_poi_to_this_person': 52}\n",
      "--------------\n",
      "HERMANN ROBERT J\n",
      "{'salary': 262663, 'to_messages': 'NaN', 'deferral_payments': 'NaN', 'total_payments': 1297461, 'exercised_stock_options': 187500, 'bonus': 700000, 'restricted_stock': 480632, 'shared_receipt_with_poi': 'NaN', 'restricted_stock_deferred': 'NaN', 'total_stock_value': 668132, 'expenses': 48357, 'loan_advances': 'NaN', 'from_messages': 'NaN', 'other': 416441, 'from_this_person_to_poi': 'NaN', 'poi': False, 'director_fees': 'NaN', 'deferred_income': -280000, 'long_term_incentive': 150000, 'email_address': 'robert.hermann@enron.com', 'from_poi_to_this_person': 'NaN'}\n",
      "--------------\n",
      "SCRIMSHAW MATTHEW\n",
      "{'salary': 'NaN', 'to_messages': 'NaN', 'deferral_payments': 'NaN', 'total_payments': 'NaN', 'exercised_stock_options': 759557, 'bonus': 'NaN', 'restricted_stock': 'NaN', 'shared_receipt_with_poi': 'NaN', 'restricted_stock_deferred': 'NaN', 'total_stock_value': 759557, 'expenses': 'NaN', 'loan_advances': 'NaN', 'from_messages': 'NaN', 'other': 'NaN', 'from_this_person_to_poi': 'NaN', 'poi': False, 'director_fees': 'NaN', 'deferred_income': 'NaN', 'long_term_incentive': 'NaN', 'email_address': 'matthew.scrimshaw@enron.com', 'from_poi_to_this_person': 'NaN'}\n",
      "--------------\n",
      "GATHMANN WILLIAM D\n",
      "{'salary': 'NaN', 'to_messages': 'NaN', 'deferral_payments': 'NaN', 'total_payments': 'NaN', 'exercised_stock_options': 1753766, 'bonus': 'NaN', 'restricted_stock': 264013, 'shared_receipt_with_poi': 'NaN', 'restricted_stock_deferred': -72419, 'total_stock_value': 1945360, 'expenses': 'NaN', 'loan_advances': 'NaN', 'from_messages': 'NaN', 'other': 'NaN', 'from_this_person_to_poi': 'NaN', 'poi': False, 'director_fees': 'NaN', 'deferred_income': 'NaN', 'long_term_incentive': 'NaN', 'email_address': 'NaN', 'from_poi_to_this_person': 'NaN'}\n",
      "--------------\n",
      "HAEDICKE MARK E\n",
      "{'salary': 374125, 'to_messages': 4009, 'deferral_payments': 2157527, 'total_payments': 3859065, 'exercised_stock_options': 608750, 'bonus': 1150000, 'restricted_stock': 524169, 'shared_receipt_with_poi': 1847, 'restricted_stock_deferred': -329825, 'total_stock_value': 803094, 'expenses': 76169, 'loan_advances': 'NaN', 'from_messages': 1941, 'other': 52382, 'from_this_person_to_poi': 61, 'poi': False, 'director_fees': 'NaN', 'deferred_income': -934484, 'long_term_incentive': 983346, 'email_address': 'mark.haedicke@enron.com', 'from_poi_to_this_person': 180}\n",
      "--------------\n",
      "BOWEN JR RAYMOND M\n",
      "{'salary': 278601, 'to_messages': 1858, 'deferral_payments': 'NaN', 'total_payments': 2669589, 'exercised_stock_options': 'NaN', 'bonus': 1350000, 'restricted_stock': 252055, 'shared_receipt_with_poi': 1593, 'restricted_stock_deferred': 'NaN', 'total_stock_value': 252055, 'expenses': 65907, 'loan_advances': 'NaN', 'from_messages': 27, 'other': 1621, 'from_this_person_to_poi': 15, 'poi': True, 'director_fees': 'NaN', 'deferred_income': -833, 'long_term_incentive': 974293, 'email_address': 'raymond.bowen@enron.com', 'from_poi_to_this_person': 140}\n",
      "--------------\n",
      "GILLIS JOHN\n",
      "{'salary': 'NaN', 'to_messages': 'NaN', 'deferral_payments': 'NaN', 'total_payments': 'NaN', 'exercised_stock_options': 9803, 'bonus': 'NaN', 'restricted_stock': 75838, 'shared_receipt_with_poi': 'NaN', 'restricted_stock_deferred': 'NaN', 'total_stock_value': 85641, 'expenses': 'NaN', 'loan_advances': 'NaN', 'from_messages': 'NaN', 'other': 'NaN', 'from_this_person_to_poi': 'NaN', 'poi': False, 'director_fees': 'NaN', 'deferred_income': 'NaN', 'long_term_incentive': 'NaN', 'email_address': 'NaN', 'from_poi_to_this_person': 'NaN'}\n",
      "--------------\n",
      "FITZGERALD JAY L\n",
      "{'salary': 199157, 'to_messages': 936, 'deferral_payments': 'NaN', 'total_payments': 1414857, 'exercised_stock_options': 664461, 'bonus': 350000, 'restricted_stock': 956775, 'shared_receipt_with_poi': 723, 'restricted_stock_deferred': 'NaN', 'total_stock_value': 1621236, 'expenses': 23870, 'loan_advances': 'NaN', 'from_messages': 16, 'other': 285414, 'from_this_person_to_poi': 8, 'poi': False, 'director_fees': 'NaN', 'deferred_income': 'NaN', 'long_term_incentive': 556416, 'email_address': 'jay.fitzgerald@enron.com', 'from_poi_to_this_person': 1}\n",
      "--------------\n",
      "MORAN MICHAEL P\n",
      "{'salary': 'NaN', 'to_messages': 672, 'deferral_payments': 'NaN', 'total_payments': 'NaN', 'exercised_stock_options': 59539, 'bonus': 'NaN', 'restricted_stock': 161602, 'shared_receipt_with_poi': 127, 'restricted_stock_deferred': 'NaN', 'total_stock_value': 221141, 'expenses': 'NaN', 'loan_advances': 'NaN', 'from_messages': 19, 'other': 'NaN', 'from_this_person_to_poi': 0, 'poi': False, 'director_fees': 'NaN', 'deferred_income': 'NaN', 'long_term_incentive': 'NaN', 'email_address': 'michael.moran@enron.com', 'from_poi_to_this_person': 0}\n",
      "--------------\n",
      "REDMOND BRIAN L\n",
      "{'salary': 96840, 'to_messages': 1671, 'deferral_payments': 'NaN', 'total_payments': 111529, 'exercised_stock_options': 7509039, 'bonus': 'NaN', 'restricted_stock': 381285, 'shared_receipt_with_poi': 1063, 'restricted_stock_deferred': 'NaN', 'total_stock_value': 7890324, 'expenses': 14689, 'loan_advances': 'NaN', 'from_messages': 221, 'other': 'NaN', 'from_this_person_to_poi': 49, 'poi': False, 'director_fees': 'NaN', 'deferred_income': 'NaN', 'long_term_incentive': 'NaN', 'email_address': 'brian.redmond@enron.com', 'from_poi_to_this_person': 204}\n",
      "--------------\n",
      "BAZELIDES PHILIP J\n",
      "{'salary': 80818, 'to_messages': 'NaN', 'deferral_payments': 684694, 'total_payments': 860136, 'exercised_stock_options': 1599641, 'bonus': 'NaN', 'restricted_stock': 'NaN', 'shared_receipt_with_poi': 'NaN', 'restricted_stock_deferred': 'NaN', 'total_stock_value': 1599641, 'expenses': 'NaN', 'loan_advances': 'NaN', 'from_messages': 'NaN', 'other': 874, 'from_this_person_to_poi': 'NaN', 'poi': False, 'director_fees': 'NaN', 'deferred_income': 'NaN', 'long_term_incentive': 93750, 'email_address': 'NaN', 'from_poi_to_this_person': 'NaN'}\n",
      "--------------\n",
      "BELDEN TIMOTHY N\n",
      "{'salary': 213999, 'to_messages': 7991, 'deferral_payments': 2144013, 'total_payments': 5501630, 'exercised_stock_options': 953136, 'bonus': 5249999, 'restricted_stock': 157569, 'shared_receipt_with_poi': 5521, 'restricted_stock_deferred': 'NaN', 'total_stock_value': 1110705, 'expenses': 17355, 'loan_advances': 'NaN', 'from_messages': 484, 'other': 210698, 'from_this_person_to_poi': 108, 'poi': True, 'director_fees': 'NaN', 'deferred_income': -2334434, 'long_term_incentive': 'NaN', 'email_address': 'tim.belden@enron.com', 'from_poi_to_this_person': 228}\n",
      "--------------\n",
      "DURAN WILLIAM D\n",
      "{'salary': 210692, 'to_messages': 904, 'deferral_payments': 'NaN', 'total_payments': 2093263, 'exercised_stock_options': 1451869, 'bonus': 750000, 'restricted_stock': 189041, 'shared_receipt_with_poi': 599, 'restricted_stock_deferred': 'NaN', 'total_stock_value': 1640910, 'expenses': 25785, 'loan_advances': 'NaN', 'from_messages': 12, 'other': 1568, 'from_this_person_to_poi': 3, 'poi': False, 'director_fees': 'NaN', 'deferred_income': 'NaN', 'long_term_incentive': 1105218, 'email_address': 'w.duran@enron.com', 'from_poi_to_this_person': 106}\n",
      "--------------\n",
      "THORN TERENCE H\n",
      "{'salary': 222093, 'to_messages': 266, 'deferral_payments': 16586, 'total_payments': 911453, 'exercised_stock_options': 4452476, 'bonus': 'NaN', 'restricted_stock': 365320, 'shared_receipt_with_poi': 73, 'restricted_stock_deferred': 'NaN', 'total_stock_value': 4817796, 'expenses': 46145, 'loan_advances': 'NaN', 'from_messages': 41, 'other': 426629, 'from_this_person_to_poi': 0, 'poi': False, 'director_fees': 'NaN', 'deferred_income': 'NaN', 'long_term_incentive': 200000, 'email_address': 'terence.thorn@enron.com', 'from_poi_to_this_person': 0}\n",
      "--------------\n",
      "FASTOW ANDREW S\n",
      "{'salary': 440698, 'to_messages': 'NaN', 'deferral_payments': 'NaN', 'total_payments': 2424083, 'exercised_stock_options': 'NaN', 'bonus': 1300000, 'restricted_stock': 1794412, 'shared_receipt_with_poi': 'NaN', 'restricted_stock_deferred': 'NaN', 'total_stock_value': 1794412, 'expenses': 55921, 'loan_advances': 'NaN', 'from_messages': 'NaN', 'other': 277464, 'from_this_person_to_poi': 'NaN', 'poi': True, 'director_fees': 'NaN', 'deferred_income': -1386055, 'long_term_incentive': 1736055, 'email_address': 'andrew.fastow@enron.com', 'from_poi_to_this_person': 'NaN'}\n",
      "--------------\n",
      "FOY JOE\n",
      "{'salary': 'NaN', 'to_messages': 57, 'deferral_payments': 181755, 'total_payments': 181755, 'exercised_stock_options': 343434, 'bonus': 'NaN', 'restricted_stock': 'NaN', 'shared_receipt_with_poi': 2, 'restricted_stock_deferred': 'NaN', 'total_stock_value': 343434, 'expenses': 'NaN', 'loan_advances': 'NaN', 'from_messages': 13, 'other': 'NaN', 'from_this_person_to_poi': 0, 'poi': False, 'director_fees': 'NaN', 'deferred_income': 'NaN', 'long_term_incentive': 'NaN', 'email_address': 'tracy.foy@enron.com', 'from_poi_to_this_person': 0}\n",
      "--------------\n",
      "CALGER CHRISTOPHER F\n",
      "{'salary': 240189, 'to_messages': 2598, 'deferral_payments': 'NaN', 'total_payments': 1639297, 'exercised_stock_options': 'NaN', 'bonus': 1250000, 'restricted_stock': 126027, 'shared_receipt_with_poi': 2188, 'restricted_stock_deferred': 'NaN', 'total_stock_value': 126027, 'expenses': 35818, 'loan_advances': 'NaN', 'from_messages': 144, 'other': 486, 'from_this_person_to_poi': 25, 'poi': True, 'director_fees': 'NaN', 'deferred_income': -262500, 'long_term_incentive': 375304, 'email_address': 'christopher.calger@enron.com', 'from_poi_to_this_person': 199}\n",
      "--------------\n",
      "RICE KENNETH D\n",
      "{'salary': 420636, 'to_messages': 905, 'deferral_payments': 'NaN', 'total_payments': 505050, 'exercised_stock_options': 19794175, 'bonus': 1750000, 'restricted_stock': 2748364, 'shared_receipt_with_poi': 864, 'restricted_stock_deferred': 'NaN', 'total_stock_value': 22542539, 'expenses': 46950, 'loan_advances': 'NaN', 'from_messages': 18, 'other': 174839, 'from_this_person_to_poi': 4, 'poi': True, 'director_fees': 'NaN', 'deferred_income': -3504386, 'long_term_incentive': 1617011, 'email_address': 'ken.rice@enron.com', 'from_poi_to_this_person': 42}\n",
      "--------------\n",
      "KAMINSKI WINCENTY J\n",
      "{'salary': 275101, 'to_messages': 4607, 'deferral_payments': 'NaN', 'total_payments': 1086821, 'exercised_stock_options': 850010, 'bonus': 400000, 'restricted_stock': 126027, 'shared_receipt_with_poi': 583, 'restricted_stock_deferred': 'NaN', 'total_stock_value': 976037, 'expenses': 83585, 'loan_advances': 'NaN', 'from_messages': 14368, 'other': 4669, 'from_this_person_to_poi': 171, 'poi': False, 'director_fees': 'NaN', 'deferred_income': 'NaN', 'long_term_incentive': 323466, 'email_address': 'vince.kaminski@enron.com', 'from_poi_to_this_person': 41}\n",
      "--------------\n",
      "LOCKHART EUGENE E\n",
      "{'salary': 'NaN', 'to_messages': 'NaN', 'deferral_payments': 'NaN', 'total_payments': 'NaN', 'exercised_stock_options': 'NaN', 'bonus': 'NaN', 'restricted_stock': 'NaN', 'shared_receipt_with_poi': 'NaN', 'restricted_stock_deferred': 'NaN', 'total_stock_value': 'NaN', 'expenses': 'NaN', 'loan_advances': 'NaN', 'from_messages': 'NaN', 'other': 'NaN', 'from_this_person_to_poi': 'NaN', 'poi': False, 'director_fees': 'NaN', 'deferred_income': 'NaN', 'long_term_incentive': 'NaN', 'email_address': 'NaN', 'from_poi_to_this_person': 'NaN'}\n",
      "--------------\n",
      "COX DAVID\n",
      "{'salary': 314288, 'to_messages': 102, 'deferral_payments': 'NaN', 'total_payments': 1101393, 'exercised_stock_options': 117551, 'bonus': 800000, 'restricted_stock': 378082, 'shared_receipt_with_poi': 71, 'restricted_stock_deferred': 'NaN', 'total_stock_value': 495633, 'expenses': 27861, 'loan_advances': 'NaN', 'from_messages': 33, 'other': 494, 'from_this_person_to_poi': 4, 'poi': False, 'director_fees': 'NaN', 'deferred_income': -41250, 'long_term_incentive': 'NaN', 'email_address': 'chip.cox@enron.com', 'from_poi_to_this_person': 0}\n",
      "--------------\n",
      "OVERDYKE JR JERE C\n",
      "{'salary': 94941, 'to_messages': 'NaN', 'deferral_payments': 'NaN', 'total_payments': 249787, 'exercised_stock_options': 5266578, 'bonus': 'NaN', 'restricted_stock': 2041016, 'shared_receipt_with_poi': 'NaN', 'restricted_stock_deferred': 'NaN', 'total_stock_value': 7307594, 'expenses': 18834, 'loan_advances': 'NaN', 'from_messages': 'NaN', 'other': 176, 'from_this_person_to_poi': 'NaN', 'poi': False, 'director_fees': 'NaN', 'deferred_income': 'NaN', 'long_term_incentive': 135836, 'email_address': 'jere.overdyke@enron.com', 'from_poi_to_this_person': 'NaN'}\n",
      "--------------\n",
      "PEREIRA PAULO V. FERRAZ\n",
      "{'salary': 'NaN', 'to_messages': 'NaN', 'deferral_payments': 'NaN', 'total_payments': 27942, 'exercised_stock_options': 'NaN', 'bonus': 'NaN', 'restricted_stock': 'NaN', 'shared_receipt_with_poi': 'NaN', 'restricted_stock_deferred': 'NaN', 'total_stock_value': 'NaN', 'expenses': 27942, 'loan_advances': 'NaN', 'from_messages': 'NaN', 'other': 'NaN', 'from_this_person_to_poi': 'NaN', 'poi': False, 'director_fees': 101250, 'deferred_income': -101250, 'long_term_incentive': 'NaN', 'email_address': 'NaN', 'from_poi_to_this_person': 'NaN'}\n",
      "--------------\n",
      "STABLER FRANK\n",
      "{'salary': 239502, 'to_messages': 'NaN', 'deferral_payments': 'NaN', 'total_payments': 1112087, 'exercised_stock_options': 'NaN', 'bonus': 500000, 'restricted_stock': 511734, 'shared_receipt_with_poi': 'NaN', 'restricted_stock_deferred': 'NaN', 'total_stock_value': 511734, 'expenses': 16514, 'loan_advances': 'NaN', 'from_messages': 'NaN', 'other': 356071, 'from_this_person_to_poi': 'NaN', 'poi': False, 'director_fees': 'NaN', 'deferred_income': 'NaN', 'long_term_incentive': 'NaN', 'email_address': 'frank.stabler@enron.com', 'from_poi_to_this_person': 'NaN'}\n",
      "--------------\n",
      "SKILLING JEFFREY K\n",
      "{'salary': 1111258, 'to_messages': 3627, 'deferral_payments': 'NaN', 'total_payments': 8682716, 'exercised_stock_options': 19250000, 'bonus': 5600000, 'restricted_stock': 6843672, 'shared_receipt_with_poi': 2042, 'restricted_stock_deferred': 'NaN', 'total_stock_value': 26093672, 'expenses': 29336, 'loan_advances': 'NaN', 'from_messages': 108, 'other': 22122, 'from_this_person_to_poi': 30, 'poi': True, 'director_fees': 'NaN', 'deferred_income': 'NaN', 'long_term_incentive': 1920000, 'email_address': 'jeff.skilling@enron.com', 'from_poi_to_this_person': 88}\n",
      "--------------\n",
      "BLAKE JR. NORMAN P\n",
      "{'salary': 'NaN', 'to_messages': 'NaN', 'deferral_payments': 'NaN', 'total_payments': 1279, 'exercised_stock_options': 'NaN', 'bonus': 'NaN', 'restricted_stock': 'NaN', 'shared_receipt_with_poi': 'NaN', 'restricted_stock_deferred': 'NaN', 'total_stock_value': 'NaN', 'expenses': 1279, 'loan_advances': 'NaN', 'from_messages': 'NaN', 'other': 'NaN', 'from_this_person_to_poi': 'NaN', 'poi': False, 'director_fees': 113784, 'deferred_income': -113784, 'long_term_incentive': 'NaN', 'email_address': 'NaN', 'from_poi_to_this_person': 'NaN'}\n",
      "--------------\n",
      "SHERRICK JEFFREY B\n",
      "{'salary': 'NaN', 'to_messages': 613, 'deferral_payments': 'NaN', 'total_payments': 'NaN', 'exercised_stock_options': 1426469, 'bonus': 'NaN', 'restricted_stock': 405999, 'shared_receipt_with_poi': 583, 'restricted_stock_deferred': 'NaN', 'total_stock_value': 1832468, 'expenses': 'NaN', 'loan_advances': 'NaN', 'from_messages': 25, 'other': 'NaN', 'from_this_person_to_poi': 18, 'poi': False, 'director_fees': 'NaN', 'deferred_income': 'NaN', 'long_term_incentive': 'NaN', 'email_address': 'jeffrey.sherrick@enron.com', 'from_poi_to_this_person': 39}\n",
      "--------------\n",
      "PRENTICE JAMES\n",
      "{'salary': 'NaN', 'to_messages': 'NaN', 'deferral_payments': 564348, 'total_payments': 564348, 'exercised_stock_options': 886231, 'bonus': 'NaN', 'restricted_stock': 208809, 'shared_receipt_with_poi': 'NaN', 'restricted_stock_deferred': 'NaN', 'total_stock_value': 1095040, 'expenses': 'NaN', 'loan_advances': 'NaN', 'from_messages': 'NaN', 'other': 'NaN', 'from_this_person_to_poi': 'NaN', 'poi': False, 'director_fees': 'NaN', 'deferred_income': 'NaN', 'long_term_incentive': 'NaN', 'email_address': 'james.prentice@enron.com', 'from_poi_to_this_person': 'NaN'}\n",
      "--------------\n",
      "GRAY RODNEY\n",
      "{'salary': 6615, 'to_messages': 'NaN', 'deferral_payments': 93585, 'total_payments': 1146658, 'exercised_stock_options': 'NaN', 'bonus': 'NaN', 'restricted_stock': 'NaN', 'shared_receipt_with_poi': 'NaN', 'restricted_stock_deferred': 'NaN', 'total_stock_value': 'NaN', 'expenses': 'NaN', 'loan_advances': 'NaN', 'from_messages': 'NaN', 'other': 680833, 'from_this_person_to_poi': 'NaN', 'poi': False, 'director_fees': 'NaN', 'deferred_income': 'NaN', 'long_term_incentive': 365625, 'email_address': 'NaN', 'from_poi_to_this_person': 'NaN'}\n",
      "--------------\n",
      "PICKERING MARK R\n",
      "{'salary': 655037, 'to_messages': 898, 'deferral_payments': 'NaN', 'total_payments': 1386690, 'exercised_stock_options': 28798, 'bonus': 300000, 'restricted_stock': 'NaN', 'shared_receipt_with_poi': 728, 'restricted_stock_deferred': 'NaN', 'total_stock_value': 28798, 'expenses': 31653, 'loan_advances': 400000, 'from_messages': 67, 'other': 'NaN', 'from_this_person_to_poi': 0, 'poi': False, 'director_fees': 'NaN', 'deferred_income': 'NaN', 'long_term_incentive': 'NaN', 'email_address': 'mark.pickering@enron.com', 'from_poi_to_this_person': 7}\n",
      "--------------\n",
      "THE TRAVEL AGENCY IN THE PARK\n",
      "{'salary': 'NaN', 'to_messages': 'NaN', 'deferral_payments': 'NaN', 'total_payments': 362096, 'exercised_stock_options': 'NaN', 'bonus': 'NaN', 'restricted_stock': 'NaN', 'shared_receipt_with_poi': 'NaN', 'restricted_stock_deferred': 'NaN', 'total_stock_value': 'NaN', 'expenses': 'NaN', 'loan_advances': 'NaN', 'from_messages': 'NaN', 'other': 362096, 'from_this_person_to_poi': 'NaN', 'poi': False, 'director_fees': 'NaN', 'deferred_income': 'NaN', 'long_term_incentive': 'NaN', 'email_address': 'NaN', 'from_poi_to_this_person': 'NaN'}\n",
      "--------------\n",
      "NOLES JAMES L\n",
      "{'salary': 'NaN', 'to_messages': 'NaN', 'deferral_payments': 774401, 'total_payments': 774401, 'exercised_stock_options': 'NaN', 'bonus': 'NaN', 'restricted_stock': 463261, 'shared_receipt_with_poi': 'NaN', 'restricted_stock_deferred': -94556, 'total_stock_value': 368705, 'expenses': 'NaN', 'loan_advances': 'NaN', 'from_messages': 'NaN', 'other': 'NaN', 'from_this_person_to_poi': 'NaN', 'poi': False, 'director_fees': 'NaN', 'deferred_income': 'NaN', 'long_term_incentive': 'NaN', 'email_address': 'NaN', 'from_poi_to_this_person': 'NaN'}\n",
      "--------------\n",
      "KEAN STEVEN J\n",
      "{'salary': 404338, 'to_messages': 12754, 'deferral_payments': 'NaN', 'total_payments': 1747522, 'exercised_stock_options': 2022048, 'bonus': 1000000, 'restricted_stock': 4131594, 'shared_receipt_with_poi': 3639, 'restricted_stock_deferred': 'NaN', 'total_stock_value': 6153642, 'expenses': 41953, 'loan_advances': 'NaN', 'from_messages': 6759, 'other': 1231, 'from_this_person_to_poi': 387, 'poi': False, 'director_fees': 'NaN', 'deferred_income': 'NaN', 'long_term_incentive': 300000, 'email_address': 'steven.kean@enron.com', 'from_poi_to_this_person': 140}\n",
      "--------------\n",
      "TOTAL\n",
      "{'salary': 26704229, 'to_messages': 'NaN', 'deferral_payments': 32083396, 'total_payments': 309886585, 'exercised_stock_options': 311764000, 'bonus': 97343619, 'restricted_stock': 130322299, 'shared_receipt_with_poi': 'NaN', 'restricted_stock_deferred': -7576788, 'total_stock_value': 434509511, 'expenses': 5235198, 'loan_advances': 83925000, 'from_messages': 'NaN', 'other': 42667589, 'from_this_person_to_poi': 'NaN', 'poi': False, 'director_fees': 1398517, 'deferred_income': -27992891, 'long_term_incentive': 48521928, 'email_address': 'NaN', 'from_poi_to_this_person': 'NaN'}\n",
      "--------------\n",
      "FOWLER PEGGY\n",
      "{'salary': 'NaN', 'to_messages': 517, 'deferral_payments': 'NaN', 'total_payments': 'NaN', 'exercised_stock_options': 1324578, 'bonus': 'NaN', 'restricted_stock': 560170, 'shared_receipt_with_poi': 10, 'restricted_stock_deferred': 'NaN', 'total_stock_value': 1884748, 'expenses': 'NaN', 'loan_advances': 'NaN', 'from_messages': 36, 'other': 'NaN', 'from_this_person_to_poi': 0, 'poi': False, 'director_fees': 'NaN', 'deferred_income': 'NaN', 'long_term_incentive': 'NaN', 'email_address': 'kulvinder.fowler@enron.com', 'from_poi_to_this_person': 0}\n",
      "--------------\n",
      "WASAFF GEORGE\n",
      "{'salary': 259996, 'to_messages': 400, 'deferral_payments': 831299, 'total_payments': 1034395, 'exercised_stock_options': 1668260, 'bonus': 325000, 'restricted_stock': 388167, 'shared_receipt_with_poi': 337, 'restricted_stock_deferred': 'NaN', 'total_stock_value': 2056427, 'expenses': 'NaN', 'loan_advances': 'NaN', 'from_messages': 30, 'other': 1425, 'from_this_person_to_poi': 7, 'poi': False, 'director_fees': 'NaN', 'deferred_income': -583325, 'long_term_incentive': 200000, 'email_address': 'george.wasaff@enron.com', 'from_poi_to_this_person': 22}\n",
      "--------------\n",
      "WHITE JR THOMAS E\n",
      "{'salary': 317543, 'to_messages': 'NaN', 'deferral_payments': 'NaN', 'total_payments': 1934359, 'exercised_stock_options': 1297049, 'bonus': 450000, 'restricted_stock': 13847074, 'shared_receipt_with_poi': 'NaN', 'restricted_stock_deferred': 'NaN', 'total_stock_value': 15144123, 'expenses': 81353, 'loan_advances': 'NaN', 'from_messages': 'NaN', 'other': 1085463, 'from_this_person_to_poi': 'NaN', 'poi': False, 'director_fees': 'NaN', 'deferred_income': 'NaN', 'long_term_incentive': 'NaN', 'email_address': 'thomas.white@enron.com', 'from_poi_to_this_person': 'NaN'}\n",
      "--------------\n",
      "CHRISTODOULOU DIOMEDES\n",
      "{'salary': 'NaN', 'to_messages': 'NaN', 'deferral_payments': 'NaN', 'total_payments': 'NaN', 'exercised_stock_options': 5127155, 'bonus': 'NaN', 'restricted_stock': 950730, 'shared_receipt_with_poi': 'NaN', 'restricted_stock_deferred': 'NaN', 'total_stock_value': 6077885, 'expenses': 'NaN', 'loan_advances': 'NaN', 'from_messages': 'NaN', 'other': 'NaN', 'from_this_person_to_poi': 'NaN', 'poi': False, 'director_fees': 'NaN', 'deferred_income': 'NaN', 'long_term_incentive': 'NaN', 'email_address': 'diomedes.christodoulou@enron.com', 'from_poi_to_this_person': 'NaN'}\n",
      "--------------\n",
      "ALLEN PHILLIP K\n",
      "{'salary': 201955, 'to_messages': 2902, 'deferral_payments': 2869717, 'total_payments': 4484442, 'exercised_stock_options': 1729541, 'bonus': 4175000, 'restricted_stock': 126027, 'shared_receipt_with_poi': 1407, 'restricted_stock_deferred': -126027, 'total_stock_value': 1729541, 'expenses': 13868, 'loan_advances': 'NaN', 'from_messages': 2195, 'other': 152, 'from_this_person_to_poi': 65, 'poi': False, 'director_fees': 'NaN', 'deferred_income': -3081055, 'long_term_incentive': 304805, 'email_address': 'phillip.allen@enron.com', 'from_poi_to_this_person': 47}\n",
      "--------------\n",
      "SHARP VICTORIA T\n",
      "{'salary': 248146, 'to_messages': 3136, 'deferral_payments': 187469, 'total_payments': 1576511, 'exercised_stock_options': 281073, 'bonus': 600000, 'restricted_stock': 213063, 'shared_receipt_with_poi': 2477, 'restricted_stock_deferred': 'NaN', 'total_stock_value': 494136, 'expenses': 116337, 'loan_advances': 'NaN', 'from_messages': 136, 'other': 2401, 'from_this_person_to_poi': 6, 'poi': False, 'director_fees': 'NaN', 'deferred_income': 'NaN', 'long_term_incentive': 422158, 'email_address': 'vicki.sharp@enron.com', 'from_poi_to_this_person': 24}\n",
      "--------------\n",
      "JAEDICKE ROBERT\n",
      "{'salary': 'NaN', 'to_messages': 'NaN', 'deferral_payments': 'NaN', 'total_payments': 83750, 'exercised_stock_options': 431750, 'bonus': 'NaN', 'restricted_stock': 44093, 'shared_receipt_with_poi': 'NaN', 'restricted_stock_deferred': -44093, 'total_stock_value': 431750, 'expenses': 'NaN', 'loan_advances': 'NaN', 'from_messages': 'NaN', 'other': 'NaN', 'from_this_person_to_poi': 'NaN', 'poi': False, 'director_fees': 108750, 'deferred_income': -25000, 'long_term_incentive': 'NaN', 'email_address': 'NaN', 'from_poi_to_this_person': 'NaN'}\n",
      "--------------\n",
      "WINOKUR JR. HERBERT S\n",
      "{'salary': 'NaN', 'to_messages': 'NaN', 'deferral_payments': 'NaN', 'total_payments': 84992, 'exercised_stock_options': 'NaN', 'bonus': 'NaN', 'restricted_stock': 'NaN', 'shared_receipt_with_poi': 'NaN', 'restricted_stock_deferred': 'NaN', 'total_stock_value': 'NaN', 'expenses': 1413, 'loan_advances': 'NaN', 'from_messages': 'NaN', 'other': 'NaN', 'from_this_person_to_poi': 'NaN', 'poi': False, 'director_fees': 108579, 'deferred_income': -25000, 'long_term_incentive': 'NaN', 'email_address': 'NaN', 'from_poi_to_this_person': 'NaN'}\n",
      "--------------\n",
      "BROWN MICHAEL\n",
      "{'salary': 'NaN', 'to_messages': 1486, 'deferral_payments': 'NaN', 'total_payments': 49288, 'exercised_stock_options': 'NaN', 'bonus': 'NaN', 'restricted_stock': 'NaN', 'shared_receipt_with_poi': 761, 'restricted_stock_deferred': 'NaN', 'total_stock_value': 'NaN', 'expenses': 49288, 'loan_advances': 'NaN', 'from_messages': 41, 'other': 'NaN', 'from_this_person_to_poi': 1, 'poi': False, 'director_fees': 'NaN', 'deferred_income': 'NaN', 'long_term_incentive': 'NaN', 'email_address': 'michael.brown@enron.com', 'from_poi_to_this_person': 13}\n",
      "--------------\n",
      "BADUM JAMES P\n",
      "{'salary': 'NaN', 'to_messages': 'NaN', 'deferral_payments': 178980, 'total_payments': 182466, 'exercised_stock_options': 257817, 'bonus': 'NaN', 'restricted_stock': 'NaN', 'shared_receipt_with_poi': 'NaN', 'restricted_stock_deferred': 'NaN', 'total_stock_value': 257817, 'expenses': 3486, 'loan_advances': 'NaN', 'from_messages': 'NaN', 'other': 'NaN', 'from_this_person_to_poi': 'NaN', 'poi': False, 'director_fees': 'NaN', 'deferred_income': 'NaN', 'long_term_incentive': 'NaN', 'email_address': 'NaN', 'from_poi_to_this_person': 'NaN'}\n",
      "--------------\n",
      "HUGHES JAMES A\n",
      "{'salary': 'NaN', 'to_messages': 719, 'deferral_payments': 'NaN', 'total_payments': 'NaN', 'exercised_stock_options': 754966, 'bonus': 'NaN', 'restricted_stock': 363428, 'shared_receipt_with_poi': 589, 'restricted_stock_deferred': 'NaN', 'total_stock_value': 1118394, 'expenses': 'NaN', 'loan_advances': 'NaN', 'from_messages': 34, 'other': 'NaN', 'from_this_person_to_poi': 5, 'poi': False, 'director_fees': 'NaN', 'deferred_income': 'NaN', 'long_term_incentive': 'NaN', 'email_address': 'james.hughes@enron.com', 'from_poi_to_this_person': 35}\n",
      "--------------\n",
      "REYNOLDS LAWRENCE\n",
      "{'salary': 76399, 'to_messages': 'NaN', 'deferral_payments': 51365, 'total_payments': 394475, 'exercised_stock_options': 4160672, 'bonus': 100000, 'restricted_stock': 201483, 'shared_receipt_with_poi': 'NaN', 'restricted_stock_deferred': -140264, 'total_stock_value': 4221891, 'expenses': 8409, 'loan_advances': 'NaN', 'from_messages': 'NaN', 'other': 202052, 'from_this_person_to_poi': 'NaN', 'poi': False, 'director_fees': 'NaN', 'deferred_income': -200000, 'long_term_incentive': 156250, 'email_address': 'NaN', 'from_poi_to_this_person': 'NaN'}\n",
      "--------------\n",
      "DIMICHELE RICHARD G\n",
      "{'salary': 262788, 'to_messages': 'NaN', 'deferral_payments': 'NaN', 'total_payments': 2368151, 'exercised_stock_options': 8191755, 'bonus': 1000000, 'restricted_stock': 126027, 'shared_receipt_with_poi': 'NaN', 'restricted_stock_deferred': 'NaN', 'total_stock_value': 8317782, 'expenses': 35812, 'loan_advances': 'NaN', 'from_messages': 'NaN', 'other': 374689, 'from_this_person_to_poi': 'NaN', 'poi': False, 'director_fees': 'NaN', 'deferred_income': 'NaN', 'long_term_incentive': 694862, 'email_address': 'richard.dimichele@enron.com', 'from_poi_to_this_person': 'NaN'}\n",
      "--------------\n",
      "BHATNAGAR SANJAY\n",
      "{'salary': 'NaN', 'to_messages': 523, 'deferral_payments': 'NaN', 'total_payments': 15456290, 'exercised_stock_options': 2604490, 'bonus': 'NaN', 'restricted_stock': -2604490, 'shared_receipt_with_poi': 463, 'restricted_stock_deferred': 15456290, 'total_stock_value': 'NaN', 'expenses': 'NaN', 'loan_advances': 'NaN', 'from_messages': 29, 'other': 137864, 'from_this_person_to_poi': 1, 'poi': False, 'director_fees': 137864, 'deferred_income': 'NaN', 'long_term_incentive': 'NaN', 'email_address': 'sanjay.bhatnagar@enron.com', 'from_poi_to_this_person': 0}\n",
      "--------------\n",
      "CARTER REBECCA C\n",
      "{'salary': 261809, 'to_messages': 312, 'deferral_payments': 'NaN', 'total_payments': 477557, 'exercised_stock_options': 'NaN', 'bonus': 300000, 'restricted_stock': 307301, 'shared_receipt_with_poi': 196, 'restricted_stock_deferred': -307301, 'total_stock_value': 'NaN', 'expenses': 'NaN', 'loan_advances': 'NaN', 'from_messages': 15, 'other': 540, 'from_this_person_to_poi': 7, 'poi': False, 'director_fees': 'NaN', 'deferred_income': -159792, 'long_term_incentive': 75000, 'email_address': 'rebecca.carter@enron.com', 'from_poi_to_this_person': 29}\n",
      "--------------\n",
      "BUCHANAN HAROLD G\n",
      "{'salary': 248017, 'to_messages': 1088, 'deferral_payments': 'NaN', 'total_payments': 1054637, 'exercised_stock_options': 825464, 'bonus': 500000, 'restricted_stock': 189041, 'shared_receipt_with_poi': 23, 'restricted_stock_deferred': 'NaN', 'total_stock_value': 1014505, 'expenses': 600, 'loan_advances': 'NaN', 'from_messages': 125, 'other': 1215, 'from_this_person_to_poi': 0, 'poi': False, 'director_fees': 'NaN', 'deferred_income': 'NaN', 'long_term_incentive': 304805, 'email_address': 'john.buchanan@enron.com', 'from_poi_to_this_person': 0}\n",
      "--------------\n",
      "YEAP SOON\n",
      "{'salary': 'NaN', 'to_messages': 'NaN', 'deferral_payments': 'NaN', 'total_payments': 55097, 'exercised_stock_options': 192758, 'bonus': 'NaN', 'restricted_stock': 'NaN', 'shared_receipt_with_poi': 'NaN', 'restricted_stock_deferred': 'NaN', 'total_stock_value': 192758, 'expenses': 55097, 'loan_advances': 'NaN', 'from_messages': 'NaN', 'other': 'NaN', 'from_this_person_to_poi': 'NaN', 'poi': False, 'director_fees': 'NaN', 'deferred_income': 'NaN', 'long_term_incentive': 'NaN', 'email_address': 'NaN', 'from_poi_to_this_person': 'NaN'}\n",
      "--------------\n",
      "MURRAY JULIA H\n",
      "{'salary': 229284, 'to_messages': 2192, 'deferral_payments': 'NaN', 'total_payments': 812194, 'exercised_stock_options': 400478, 'bonus': 400000, 'restricted_stock': 196983, 'shared_receipt_with_poi': 395, 'restricted_stock_deferred': 'NaN', 'total_stock_value': 597461, 'expenses': 57580, 'loan_advances': 'NaN', 'from_messages': 45, 'other': 330, 'from_this_person_to_poi': 2, 'poi': False, 'director_fees': 'NaN', 'deferred_income': 'NaN', 'long_term_incentive': 125000, 'email_address': 'julia.murray@enron.com', 'from_poi_to_this_person': 11}\n",
      "--------------\n",
      "GARLAND C KEVIN\n",
      "{'salary': 231946, 'to_messages': 209, 'deferral_payments': 'NaN', 'total_payments': 1566469, 'exercised_stock_options': 636246, 'bonus': 850000, 'restricted_stock': 259907, 'shared_receipt_with_poi': 178, 'restricted_stock_deferred': 'NaN', 'total_stock_value': 896153, 'expenses': 48405, 'loan_advances': 'NaN', 'from_messages': 44, 'other': 60814, 'from_this_person_to_poi': 27, 'poi': False, 'director_fees': 'NaN', 'deferred_income': 'NaN', 'long_term_incentive': 375304, 'email_address': 'kevin.garland@enron.com', 'from_poi_to_this_person': 10}\n",
      "--------------\n",
      "DODSON KEITH\n",
      "{'salary': 221003, 'to_messages': 176, 'deferral_payments': 'NaN', 'total_payments': 319941, 'exercised_stock_options': 'NaN', 'bonus': 70000, 'restricted_stock': 'NaN', 'shared_receipt_with_poi': 114, 'restricted_stock_deferred': 'NaN', 'total_stock_value': 'NaN', 'expenses': 28164, 'loan_advances': 'NaN', 'from_messages': 14, 'other': 774, 'from_this_person_to_poi': 3, 'poi': False, 'director_fees': 'NaN', 'deferred_income': 'NaN', 'long_term_incentive': 'NaN', 'email_address': 'keith.dodson@enron.com', 'from_poi_to_this_person': 10}\n",
      "--------------\n",
      "YEAGER F SCOTT\n",
      "{'salary': 158403, 'to_messages': 'NaN', 'deferral_payments': 'NaN', 'total_payments': 360300, 'exercised_stock_options': 8308552, 'bonus': 'NaN', 'restricted_stock': 3576206, 'shared_receipt_with_poi': 'NaN', 'restricted_stock_deferred': 'NaN', 'total_stock_value': 11884758, 'expenses': 53947, 'loan_advances': 'NaN', 'from_messages': 'NaN', 'other': 147950, 'from_this_person_to_poi': 'NaN', 'poi': True, 'director_fees': 'NaN', 'deferred_income': 'NaN', 'long_term_incentive': 'NaN', 'email_address': 'scott.yeager@enron.com', 'from_poi_to_this_person': 'NaN'}\n",
      "--------------\n",
      "HIRKO JOSEPH\n",
      "{'salary': 'NaN', 'to_messages': 'NaN', 'deferral_payments': 10259, 'total_payments': 91093, 'exercised_stock_options': 30766064, 'bonus': 'NaN', 'restricted_stock': 'NaN', 'shared_receipt_with_poi': 'NaN', 'restricted_stock_deferred': 'NaN', 'total_stock_value': 30766064, 'expenses': 77978, 'loan_advances': 'NaN', 'from_messages': 'NaN', 'other': 2856, 'from_this_person_to_poi': 'NaN', 'poi': True, 'director_fees': 'NaN', 'deferred_income': 'NaN', 'long_term_incentive': 'NaN', 'email_address': 'joe.hirko@enron.com', 'from_poi_to_this_person': 'NaN'}\n",
      "--------------\n",
      "DIETRICH JANET R\n",
      "{'salary': 250100, 'to_messages': 2572, 'deferral_payments': 'NaN', 'total_payments': 1410464, 'exercised_stock_options': 1550019, 'bonus': 600000, 'restricted_stock': 315068, 'shared_receipt_with_poi': 1902, 'restricted_stock_deferred': 'NaN', 'total_stock_value': 1865087, 'expenses': 3475, 'loan_advances': 'NaN', 'from_messages': 63, 'other': 473, 'from_this_person_to_poi': 14, 'poi': False, 'director_fees': 'NaN', 'deferred_income': 'NaN', 'long_term_incentive': 556416, 'email_address': 'janet.dietrich@enron.com', 'from_poi_to_this_person': 305}\n",
      "--------------\n",
      "DERRICK JR. JAMES V\n",
      "{'salary': 492375, 'to_messages': 2181, 'deferral_payments': 'NaN', 'total_payments': 550981, 'exercised_stock_options': 8831913, 'bonus': 800000, 'restricted_stock': 1787380, 'shared_receipt_with_poi': 1401, 'restricted_stock_deferred': -1787380, 'total_stock_value': 8831913, 'expenses': 51124, 'loan_advances': 'NaN', 'from_messages': 909, 'other': 7482, 'from_this_person_to_poi': 20, 'poi': False, 'director_fees': 'NaN', 'deferred_income': -1284000, 'long_term_incentive': 484000, 'email_address': 'james.derrick@enron.com', 'from_poi_to_this_person': 64}\n",
      "--------------\n",
      "FREVERT MARK A\n",
      "{'salary': 1060932, 'to_messages': 3275, 'deferral_payments': 6426990, 'total_payments': 17252530, 'exercised_stock_options': 10433518, 'bonus': 2000000, 'restricted_stock': 4188667, 'shared_receipt_with_poi': 2979, 'restricted_stock_deferred': 'NaN', 'total_stock_value': 14622185, 'expenses': 86987, 'loan_advances': 2000000, 'from_messages': 21, 'other': 7427621, 'from_this_person_to_poi': 6, 'poi': False, 'director_fees': 'NaN', 'deferred_income': -3367011, 'long_term_incentive': 1617011, 'email_address': 'mark.frevert@enron.com', 'from_poi_to_this_person': 242}\n",
      "--------------\n",
      "PAI LOU L\n",
      "{'salary': 261879, 'to_messages': 'NaN', 'deferral_payments': 'NaN', 'total_payments': 3123383, 'exercised_stock_options': 15364167, 'bonus': 1000000, 'restricted_stock': 8453763, 'shared_receipt_with_poi': 'NaN', 'restricted_stock_deferred': 'NaN', 'total_stock_value': 23817930, 'expenses': 32047, 'loan_advances': 'NaN', 'from_messages': 'NaN', 'other': 1829457, 'from_this_person_to_poi': 'NaN', 'poi': False, 'director_fees': 'NaN', 'deferred_income': 'NaN', 'long_term_incentive': 'NaN', 'email_address': 'lou.pai@enron.com', 'from_poi_to_this_person': 'NaN'}\n",
      "--------------\n",
      "BAY FRANKLIN R\n",
      "{'salary': 239671, 'to_messages': 'NaN', 'deferral_payments': 260455, 'total_payments': 827696, 'exercised_stock_options': 'NaN', 'bonus': 400000, 'restricted_stock': 145796, 'shared_receipt_with_poi': 'NaN', 'restricted_stock_deferred': -82782, 'total_stock_value': 63014, 'expenses': 129142, 'loan_advances': 'NaN', 'from_messages': 'NaN', 'other': 69, 'from_this_person_to_poi': 'NaN', 'poi': False, 'director_fees': 'NaN', 'deferred_income': -201641, 'long_term_incentive': 'NaN', 'email_address': 'frank.bay@enron.com', 'from_poi_to_this_person': 'NaN'}\n",
      "--------------\n",
      "HAYSLETT RODERICK J\n",
      "{'salary': 'NaN', 'to_messages': 2649, 'deferral_payments': 'NaN', 'total_payments': 'NaN', 'exercised_stock_options': 'NaN', 'bonus': 'NaN', 'restricted_stock': 346663, 'shared_receipt_with_poi': 571, 'restricted_stock_deferred': 'NaN', 'total_stock_value': 346663, 'expenses': 'NaN', 'loan_advances': 'NaN', 'from_messages': 1061, 'other': 'NaN', 'from_this_person_to_poi': 38, 'poi': False, 'director_fees': 'NaN', 'deferred_income': 'NaN', 'long_term_incentive': 'NaN', 'email_address': 'rod.hayslett@enron.com', 'from_poi_to_this_person': 35}\n",
      "--------------\n",
      "FUGH JOHN L\n",
      "{'salary': 'NaN', 'to_messages': 'NaN', 'deferral_payments': 50591, 'total_payments': 50591, 'exercised_stock_options': 176378, 'bonus': 'NaN', 'restricted_stock': 'NaN', 'shared_receipt_with_poi': 'NaN', 'restricted_stock_deferred': 'NaN', 'total_stock_value': 176378, 'expenses': 'NaN', 'loan_advances': 'NaN', 'from_messages': 'NaN', 'other': 'NaN', 'from_this_person_to_poi': 'NaN', 'poi': False, 'director_fees': 'NaN', 'deferred_income': 'NaN', 'long_term_incentive': 'NaN', 'email_address': 'NaN', 'from_poi_to_this_person': 'NaN'}\n",
      "--------------\n",
      "FALLON JAMES B\n",
      "{'salary': 304588, 'to_messages': 1755, 'deferral_payments': 'NaN', 'total_payments': 3676340, 'exercised_stock_options': 940257, 'bonus': 2500000, 'restricted_stock': 1392142, 'shared_receipt_with_poi': 1604, 'restricted_stock_deferred': 'NaN', 'total_stock_value': 2332399, 'expenses': 95924, 'loan_advances': 'NaN', 'from_messages': 75, 'other': 401481, 'from_this_person_to_poi': 37, 'poi': False, 'director_fees': 'NaN', 'deferred_income': 'NaN', 'long_term_incentive': 374347, 'email_address': 'jim.fallon@enron.com', 'from_poi_to_this_person': 42}\n",
      "--------------\n",
      "KOENIG MARK E\n",
      "{'salary': 309946, 'to_messages': 2374, 'deferral_payments': 'NaN', 'total_payments': 1587421, 'exercised_stock_options': 671737, 'bonus': 700000, 'restricted_stock': 1248318, 'shared_receipt_with_poi': 2271, 'restricted_stock_deferred': 'NaN', 'total_stock_value': 1920055, 'expenses': 127017, 'loan_advances': 'NaN', 'from_messages': 61, 'other': 150458, 'from_this_person_to_poi': 15, 'poi': True, 'director_fees': 'NaN', 'deferred_income': 'NaN', 'long_term_incentive': 300000, 'email_address': 'mark.koenig@enron.com', 'from_poi_to_this_person': 53}\n",
      "--------------\n",
      "SAVAGE FRANK\n",
      "{'salary': 'NaN', 'to_messages': 'NaN', 'deferral_payments': 'NaN', 'total_payments': 3750, 'exercised_stock_options': 'NaN', 'bonus': 'NaN', 'restricted_stock': 'NaN', 'shared_receipt_with_poi': 'NaN', 'restricted_stock_deferred': 'NaN', 'total_stock_value': 'NaN', 'expenses': 'NaN', 'loan_advances': 'NaN', 'from_messages': 'NaN', 'other': 'NaN', 'from_this_person_to_poi': 'NaN', 'poi': False, 'director_fees': 125034, 'deferred_income': -121284, 'long_term_incentive': 'NaN', 'email_address': 'NaN', 'from_poi_to_this_person': 'NaN'}\n",
      "--------------\n",
      "IZZO LAWRENCE L\n",
      "{'salary': 85274, 'to_messages': 496, 'deferral_payments': 'NaN', 'total_payments': 1979596, 'exercised_stock_options': 2165172, 'bonus': 'NaN', 'restricted_stock': 3654808, 'shared_receipt_with_poi': 437, 'restricted_stock_deferred': 'NaN', 'total_stock_value': 5819980, 'expenses': 28093, 'loan_advances': 'NaN', 'from_messages': 19, 'other': 1553729, 'from_this_person_to_poi': 5, 'poi': False, 'director_fees': 'NaN', 'deferred_income': 'NaN', 'long_term_incentive': 312500, 'email_address': 'larry.izzo@enron.com', 'from_poi_to_this_person': 28}\n",
      "--------------\n",
      "TILNEY ELIZABETH A\n",
      "{'salary': 247338, 'to_messages': 460, 'deferral_payments': 'NaN', 'total_payments': 399393, 'exercised_stock_options': 591250, 'bonus': 300000, 'restricted_stock': 576792, 'shared_receipt_with_poi': 379, 'restricted_stock_deferred': 'NaN', 'total_stock_value': 1168042, 'expenses': 'NaN', 'loan_advances': 'NaN', 'from_messages': 19, 'other': 152055, 'from_this_person_to_poi': 11, 'poi': False, 'director_fees': 'NaN', 'deferred_income': -575000, 'long_term_incentive': 275000, 'email_address': 'elizabeth.tilney@enron.com', 'from_poi_to_this_person': 10}\n",
      "--------------\n",
      "MARTIN AMANDA K\n",
      "{'salary': 349487, 'to_messages': 1522, 'deferral_payments': 85430, 'total_payments': 8407016, 'exercised_stock_options': 2070306, 'bonus': 'NaN', 'restricted_stock': 'NaN', 'shared_receipt_with_poi': 477, 'restricted_stock_deferred': 'NaN', 'total_stock_value': 2070306, 'expenses': 8211, 'loan_advances': 'NaN', 'from_messages': 230, 'other': 2818454, 'from_this_person_to_poi': 0, 'poi': False, 'director_fees': 'NaN', 'deferred_income': 'NaN', 'long_term_incentive': 5145434, 'email_address': 'a..martin@enron.com', 'from_poi_to_this_person': 8}\n",
      "--------------\n",
      "BUY RICHARD B\n",
      "{'salary': 330546, 'to_messages': 3523, 'deferral_payments': 649584, 'total_payments': 2355702, 'exercised_stock_options': 2542813, 'bonus': 900000, 'restricted_stock': 901657, 'shared_receipt_with_poi': 2333, 'restricted_stock_deferred': 'NaN', 'total_stock_value': 3444470, 'expenses': 'NaN', 'loan_advances': 'NaN', 'from_messages': 1053, 'other': 400572, 'from_this_person_to_poi': 71, 'poi': False, 'director_fees': 'NaN', 'deferred_income': -694862, 'long_term_incentive': 769862, 'email_address': 'rick.buy@enron.com', 'from_poi_to_this_person': 156}\n",
      "--------------\n",
      "GRAMM WENDY L\n",
      "{'salary': 'NaN', 'to_messages': 'NaN', 'deferral_payments': 'NaN', 'total_payments': 119292, 'exercised_stock_options': 'NaN', 'bonus': 'NaN', 'restricted_stock': 'NaN', 'shared_receipt_with_poi': 'NaN', 'restricted_stock_deferred': 'NaN', 'total_stock_value': 'NaN', 'expenses': 'NaN', 'loan_advances': 'NaN', 'from_messages': 'NaN', 'other': 'NaN', 'from_this_person_to_poi': 'NaN', 'poi': False, 'director_fees': 119292, 'deferred_income': 'NaN', 'long_term_incentive': 'NaN', 'email_address': 'NaN', 'from_poi_to_this_person': 'NaN'}\n",
      "--------------\n",
      "CAUSEY RICHARD A\n",
      "{'salary': 415189, 'to_messages': 1892, 'deferral_payments': 'NaN', 'total_payments': 1868758, 'exercised_stock_options': 'NaN', 'bonus': 1000000, 'restricted_stock': 2502063, 'shared_receipt_with_poi': 1585, 'restricted_stock_deferred': 'NaN', 'total_stock_value': 2502063, 'expenses': 30674, 'loan_advances': 'NaN', 'from_messages': 49, 'other': 307895, 'from_this_person_to_poi': 12, 'poi': True, 'director_fees': 'NaN', 'deferred_income': -235000, 'long_term_incentive': 350000, 'email_address': 'richard.causey@enron.com', 'from_poi_to_this_person': 58}\n",
      "--------------\n",
      "TAYLOR MITCHELL S\n",
      "{'salary': 265214, 'to_messages': 533, 'deferral_payments': 227449, 'total_payments': 1092663, 'exercised_stock_options': 3181250, 'bonus': 600000, 'restricted_stock': 563798, 'shared_receipt_with_poi': 300, 'restricted_stock_deferred': 'NaN', 'total_stock_value': 3745048, 'expenses': 'NaN', 'loan_advances': 'NaN', 'from_messages': 29, 'other': 'NaN', 'from_this_person_to_poi': 0, 'poi': False, 'director_fees': 'NaN', 'deferred_income': 'NaN', 'long_term_incentive': 'NaN', 'email_address': 'mitchell.taylor@enron.com', 'from_poi_to_this_person': 0}\n",
      "--------------\n",
      "DONAHUE JR JEFFREY M\n",
      "{'salary': 278601, 'to_messages': 865, 'deferral_payments': 'NaN', 'total_payments': 875760, 'exercised_stock_options': 765920, 'bonus': 800000, 'restricted_stock': 315068, 'shared_receipt_with_poi': 772, 'restricted_stock_deferred': 'NaN', 'total_stock_value': 1080988, 'expenses': 96268, 'loan_advances': 'NaN', 'from_messages': 22, 'other': 891, 'from_this_person_to_poi': 11, 'poi': False, 'director_fees': 'NaN', 'deferred_income': -300000, 'long_term_incentive': 'NaN', 'email_address': 'jeff.donahue@enron.com', 'from_poi_to_this_person': 188}\n",
      "--------------\n",
      "GLISAN JR BEN F\n",
      "{'salary': 274975, 'to_messages': 873, 'deferral_payments': 'NaN', 'total_payments': 1272284, 'exercised_stock_options': 384728, 'bonus': 600000, 'restricted_stock': 393818, 'shared_receipt_with_poi': 874, 'restricted_stock_deferred': 'NaN', 'total_stock_value': 778546, 'expenses': 125978, 'loan_advances': 'NaN', 'from_messages': 16, 'other': 200308, 'from_this_person_to_poi': 6, 'poi': True, 'director_fees': 'NaN', 'deferred_income': 'NaN', 'long_term_incentive': 71023, 'email_address': 'ben.glisan@enron.com', 'from_poi_to_this_person': 52}\n",
      "--------------\n"
     ]
    }
   ],
   "source": [
    "for key in enron_data.iterkeys():\n",
    "    print key\n",
    "    print enron_data[key]\n",
    "    print \"--------------\""
   ]
  },
  {
   "cell_type": "markdown",
   "metadata": {},
   "source": [
    "For each person on the list there are up to 21 entered features."
   ]
  },
  {
   "cell_type": "code",
   "execution_count": 6,
   "metadata": {
    "collapsed": false
   },
   "outputs": [
    {
     "name": "stdout",
     "output_type": "stream",
     "text": [
      "Number of features per entry: 21\n"
     ]
    }
   ],
   "source": [
    "print 'Number of features per entry:',len(enron_data[key])"
   ]
  },
  {
   "cell_type": "markdown",
   "metadata": {},
   "source": [
    "There is missing information about most of the people on the list.\n",
    "\n",
    "Here is a quick preview of the first 5 entries."
   ]
  },
  {
   "cell_type": "code",
   "execution_count": 7,
   "metadata": {
    "collapsed": false
   },
   "outputs": [
    {
     "data": {
      "text/html": [
       "<div>\n",
       "<table border=\"1\" class=\"dataframe\">\n",
       "  <thead>\n",
       "    <tr style=\"text-align: right;\">\n",
       "      <th></th>\n",
       "      <th>bonus</th>\n",
       "      <th>deferral_payments</th>\n",
       "      <th>deferred_income</th>\n",
       "      <th>director_fees</th>\n",
       "      <th>email_address</th>\n",
       "      <th>exercised_stock_options</th>\n",
       "      <th>expenses</th>\n",
       "      <th>from_messages</th>\n",
       "      <th>from_poi_to_this_person</th>\n",
       "      <th>from_this_person_to_poi</th>\n",
       "      <th>...</th>\n",
       "      <th>long_term_incentive</th>\n",
       "      <th>other</th>\n",
       "      <th>poi</th>\n",
       "      <th>restricted_stock</th>\n",
       "      <th>restricted_stock_deferred</th>\n",
       "      <th>salary</th>\n",
       "      <th>shared_receipt_with_poi</th>\n",
       "      <th>to_messages</th>\n",
       "      <th>total_payments</th>\n",
       "      <th>total_stock_value</th>\n",
       "    </tr>\n",
       "  </thead>\n",
       "  <tbody>\n",
       "    <tr>\n",
       "      <th>ALLEN PHILLIP K</th>\n",
       "      <td>4175000</td>\n",
       "      <td>2869717</td>\n",
       "      <td>-3081055</td>\n",
       "      <td>NaN</td>\n",
       "      <td>phillip.allen@enron.com</td>\n",
       "      <td>1729541</td>\n",
       "      <td>13868</td>\n",
       "      <td>2195</td>\n",
       "      <td>47</td>\n",
       "      <td>65</td>\n",
       "      <td>...</td>\n",
       "      <td>304805</td>\n",
       "      <td>152</td>\n",
       "      <td>False</td>\n",
       "      <td>126027</td>\n",
       "      <td>-126027</td>\n",
       "      <td>201955</td>\n",
       "      <td>1407</td>\n",
       "      <td>2902</td>\n",
       "      <td>4484442</td>\n",
       "      <td>1729541</td>\n",
       "    </tr>\n",
       "    <tr>\n",
       "      <th>BADUM JAMES P</th>\n",
       "      <td>NaN</td>\n",
       "      <td>178980</td>\n",
       "      <td>NaN</td>\n",
       "      <td>NaN</td>\n",
       "      <td>NaN</td>\n",
       "      <td>257817</td>\n",
       "      <td>3486</td>\n",
       "      <td>NaN</td>\n",
       "      <td>NaN</td>\n",
       "      <td>NaN</td>\n",
       "      <td>...</td>\n",
       "      <td>NaN</td>\n",
       "      <td>NaN</td>\n",
       "      <td>False</td>\n",
       "      <td>NaN</td>\n",
       "      <td>NaN</td>\n",
       "      <td>NaN</td>\n",
       "      <td>NaN</td>\n",
       "      <td>NaN</td>\n",
       "      <td>182466</td>\n",
       "      <td>257817</td>\n",
       "    </tr>\n",
       "    <tr>\n",
       "      <th>BANNANTINE JAMES M</th>\n",
       "      <td>NaN</td>\n",
       "      <td>NaN</td>\n",
       "      <td>-5104</td>\n",
       "      <td>NaN</td>\n",
       "      <td>james.bannantine@enron.com</td>\n",
       "      <td>4046157</td>\n",
       "      <td>56301</td>\n",
       "      <td>29</td>\n",
       "      <td>39</td>\n",
       "      <td>0</td>\n",
       "      <td>...</td>\n",
       "      <td>NaN</td>\n",
       "      <td>864523</td>\n",
       "      <td>False</td>\n",
       "      <td>1757552</td>\n",
       "      <td>-560222</td>\n",
       "      <td>477</td>\n",
       "      <td>465</td>\n",
       "      <td>566</td>\n",
       "      <td>916197</td>\n",
       "      <td>5243487</td>\n",
       "    </tr>\n",
       "    <tr>\n",
       "      <th>BAXTER JOHN C</th>\n",
       "      <td>1200000</td>\n",
       "      <td>1295738</td>\n",
       "      <td>-1386055</td>\n",
       "      <td>NaN</td>\n",
       "      <td>NaN</td>\n",
       "      <td>6680544</td>\n",
       "      <td>11200</td>\n",
       "      <td>NaN</td>\n",
       "      <td>NaN</td>\n",
       "      <td>NaN</td>\n",
       "      <td>...</td>\n",
       "      <td>1586055</td>\n",
       "      <td>2660303</td>\n",
       "      <td>False</td>\n",
       "      <td>3942714</td>\n",
       "      <td>NaN</td>\n",
       "      <td>267102</td>\n",
       "      <td>NaN</td>\n",
       "      <td>NaN</td>\n",
       "      <td>5634343</td>\n",
       "      <td>10623258</td>\n",
       "    </tr>\n",
       "    <tr>\n",
       "      <th>BAY FRANKLIN R</th>\n",
       "      <td>400000</td>\n",
       "      <td>260455</td>\n",
       "      <td>-201641</td>\n",
       "      <td>NaN</td>\n",
       "      <td>frank.bay@enron.com</td>\n",
       "      <td>NaN</td>\n",
       "      <td>129142</td>\n",
       "      <td>NaN</td>\n",
       "      <td>NaN</td>\n",
       "      <td>NaN</td>\n",
       "      <td>...</td>\n",
       "      <td>NaN</td>\n",
       "      <td>69</td>\n",
       "      <td>False</td>\n",
       "      <td>145796</td>\n",
       "      <td>-82782</td>\n",
       "      <td>239671</td>\n",
       "      <td>NaN</td>\n",
       "      <td>NaN</td>\n",
       "      <td>827696</td>\n",
       "      <td>63014</td>\n",
       "    </tr>\n",
       "  </tbody>\n",
       "</table>\n",
       "<p>5 rows × 21 columns</p>\n",
       "</div>"
      ],
      "text/plain": [
       "                      bonus deferral_payments deferred_income director_fees  \\\n",
       "ALLEN PHILLIP K     4175000           2869717        -3081055           NaN   \n",
       "BADUM JAMES P           NaN            178980             NaN           NaN   \n",
       "BANNANTINE JAMES M      NaN               NaN           -5104           NaN   \n",
       "BAXTER JOHN C       1200000           1295738        -1386055           NaN   \n",
       "BAY FRANKLIN R       400000            260455         -201641           NaN   \n",
       "\n",
       "                                 email_address exercised_stock_options  \\\n",
       "ALLEN PHILLIP K        phillip.allen@enron.com                 1729541   \n",
       "BADUM JAMES P                              NaN                  257817   \n",
       "BANNANTINE JAMES M  james.bannantine@enron.com                 4046157   \n",
       "BAXTER JOHN C                              NaN                 6680544   \n",
       "BAY FRANKLIN R             frank.bay@enron.com                     NaN   \n",
       "\n",
       "                   expenses from_messages from_poi_to_this_person  \\\n",
       "ALLEN PHILLIP K       13868          2195                      47   \n",
       "BADUM JAMES P          3486           NaN                     NaN   \n",
       "BANNANTINE JAMES M    56301            29                      39   \n",
       "BAXTER JOHN C         11200           NaN                     NaN   \n",
       "BAY FRANKLIN R       129142           NaN                     NaN   \n",
       "\n",
       "                   from_this_person_to_poi        ...         \\\n",
       "ALLEN PHILLIP K                         65        ...          \n",
       "BADUM JAMES P                          NaN        ...          \n",
       "BANNANTINE JAMES M                       0        ...          \n",
       "BAXTER JOHN C                          NaN        ...          \n",
       "BAY FRANKLIN R                         NaN        ...          \n",
       "\n",
       "                   long_term_incentive    other    poi restricted_stock  \\\n",
       "ALLEN PHILLIP K                 304805      152  False           126027   \n",
       "BADUM JAMES P                      NaN      NaN  False              NaN   \n",
       "BANNANTINE JAMES M                 NaN   864523  False          1757552   \n",
       "BAXTER JOHN C                  1586055  2660303  False          3942714   \n",
       "BAY FRANKLIN R                     NaN       69  False           145796   \n",
       "\n",
       "                   restricted_stock_deferred  salary shared_receipt_with_poi  \\\n",
       "ALLEN PHILLIP K                      -126027  201955                    1407   \n",
       "BADUM JAMES P                            NaN     NaN                     NaN   \n",
       "BANNANTINE JAMES M                   -560222     477                     465   \n",
       "BAXTER JOHN C                            NaN  267102                     NaN   \n",
       "BAY FRANKLIN R                        -82782  239671                     NaN   \n",
       "\n",
       "                   to_messages total_payments total_stock_value  \n",
       "ALLEN PHILLIP K           2902        4484442           1729541  \n",
       "BADUM JAMES P              NaN         182466            257817  \n",
       "BANNANTINE JAMES M         566         916197           5243487  \n",
       "BAXTER JOHN C              NaN        5634343          10623258  \n",
       "BAY FRANKLIN R             NaN         827696             63014  \n",
       "\n",
       "[5 rows x 21 columns]"
      ]
     },
     "execution_count": 7,
     "metadata": {},
     "output_type": "execute_result"
    }
   ],
   "source": [
    "df = pd.DataFrame(enron_data)\n",
    "\n",
    "#Set up DF http://pandas.pydata.org/pandas-docs/stable/generated/pandas.DataFrame.transpose.html\n",
    "df1 = df.transpose()\n",
    "df1.head(5)"
   ]
  },
  {
   "cell_type": "markdown",
   "metadata": {},
   "source": [
    "The only feature without missing information is poi while the feature with missing information about most of the observations is loan advances."
   ]
  },
  {
   "cell_type": "code",
   "execution_count": 8,
   "metadata": {
    "collapsed": false
   },
   "outputs": [
    {
     "name": "stdout",
     "output_type": "stream",
     "text": [
      "Number of missing values per feature:\n"
     ]
    },
    {
     "data": {
      "text/plain": [
       "loan_advances                142\n",
       "director_fees                129\n",
       "restricted_stock_deferred    128\n",
       "deferral_payments            107\n",
       "deferred_income               97\n",
       "long_term_incentive           80\n",
       "bonus                         64\n",
       "from_this_person_to_poi       60\n",
       "from_poi_to_this_person       60\n",
       "from_messages                 60\n",
       "shared_receipt_with_poi       60\n",
       "to_messages                   60\n",
       "other                         53\n",
       "expenses                      51\n",
       "salary                        51\n",
       "exercised_stock_options       44\n",
       "restricted_stock              36\n",
       "email_address                 35\n",
       "total_payments                21\n",
       "total_stock_value             20\n",
       "poi                            0\n",
       "dtype: int64"
      ]
     },
     "execution_count": 8,
     "metadata": {},
     "output_type": "execute_result"
    }
   ],
   "source": [
    "#Are there features with many missing values? etc.\n",
    "\n",
    "print 'Number of missing values per feature:'\n",
    "df1[df1 == 'NaN'].count().sort_values(ascending = False)"
   ]
  },
  {
   "cell_type": "markdown",
   "metadata": {},
   "source": [
    "A logical explanation about the missing observations for loan advances, restricted stock deferred and deferral payments could be that they are more tipycal for executives and managers and non-employee directors. \n",
    "- Deffered payment is an executive perk used from executives to avoid/delay paying taxes.\n",
    "\n",
    "- Director fees is paid to non-employee directors. \n",
    "\n",
    "- As stated in the  Report of investigation of Enron corporation and related entities regarding federal tax and compensation issues and policy recommendations defferal of restricted stock was available only for executives and non-employee directors who could choose to not recieve a share upon maturity of an option but instead Enron would credit the value to the participant's Phantom Stock Account that will be payable upon death or retirement due to disability. Credits for the dividends would be accrued in a separate account.\n",
    "\n",
    "\n",
    "Presented below is a list of the top 30 observations with least amount of information. LOCKHART EUGENE E has only been indicated as no person of interest with all the rest of the information missing. I see no real reason for keeping this observation in the dataset.\n",
    "\n",
    "Sources: \n",
    "http://www.bloomberg.com/news/articles/2002-03-03/the-danger-of-deferred-compensation\n",
    "https://books.google.lt/books?id=yhSA2u91BFgC&pg=PA610&lpg=PA610&dq=restricted+stock+deferred+enron&source=bl&ots=Nb08uMf0vm&sig=OXZPsqrYA0ccumN2zHAZ48mwk3s&hl=en&sa=X&redir_esc=y#v=onepage&q=restricted%20stock%20deferred%20enron&f=false"
   ]
  },
  {
   "cell_type": "code",
   "execution_count": 9,
   "metadata": {
    "collapsed": false
   },
   "outputs": [
    {
     "name": "stdout",
     "output_type": "stream",
     "text": [
      "Top 30 of the people with least amount of information:\n"
     ]
    },
    {
     "data": {
      "text/plain": [
       "LOCKHART EUGENE E                20\n",
       "GRAMM WENDY L                    18\n",
       "WROBEL BRUCE                     18\n",
       "WHALEY DAVID A                   18\n",
       "THE TRAVEL AGENCY IN THE PARK    18\n",
       "WAKEHAM JOHN                     17\n",
       "WODRASKA JOHN                    17\n",
       "CLINE KENNETH W                  17\n",
       "GILLIS JOHN                      17\n",
       "SCRIMSHAW MATTHEW                17\n",
       "SAVAGE FRANK                     17\n",
       "MENDELSOHN JOHN                  16\n",
       "YEAP SOON                        16\n",
       "CHRISTODOULOU DIOMEDES           16\n",
       "PEREIRA PAULO V. FERRAZ          16\n",
       "BLAKE JR. NORMAN P               16\n",
       "LOWRY CHARLES P                  16\n",
       "CHAN RONNIE                      16\n",
       "MEYER JEROME J                   16\n",
       "GATHMANN WILLIAM D               16\n",
       "WINOKUR JR. HERBERT S            16\n",
       "FUGH JOHN L                      16\n",
       "URQUHART JOHN A                  16\n",
       "NOLES JAMES L                    15\n",
       "WALTERS GARETH W                 15\n",
       "BADUM JAMES P                    15\n",
       "LEMAISTRE CHARLES                15\n",
       "DUNCAN JOHN H                    15\n",
       "GRAY RODNEY                      15\n",
       "PRENTICE JAMES                   14\n",
       "dtype: int64"
      ]
     },
     "execution_count": 9,
     "metadata": {},
     "output_type": "execute_result"
    }
   ],
   "source": [
    "#Entries with most missing information \n",
    "#Help from: http://pandas.pydata.org/pandas-docs/stable/generated/pandas.DataFrame.sort_values.html\n",
    "\n",
    "print 'Top 30 of the people with least amount of information:'\n",
    "df[df == 'NaN'].count().sort_values(ascending = False).head(30)"
   ]
  },
  {
   "cell_type": "markdown",
   "metadata": {
    "collapsed": false
   },
   "source": [
    "3 of the main investigated people during the Enron fraud scandal were:\n",
    "- Kenneth Lay – former CEO and Chairman of Enron.\n",
    "- A former CFO of Enron. Fastow was indicted on 78 counts of securities fraud, money laundering, wire and mail fraud, as well as conspiracy to inflate Enron’s profit.\n",
    "- A former CEO of Enron.\n",
    "\n",
    "Source:\n",
    "http://www.lawyershop.com/practice-areas/criminal-law/white-collar-crimes/securities-fraud/lawsuits/enron"
   ]
  },
  {
   "cell_type": "code",
   "execution_count": 10,
   "metadata": {
    "collapsed": false
   },
   "outputs": [
    {
     "name": "stdout",
     "output_type": "stream",
     "text": [
      "Total payments to Kenneth Lay: 103559793 USD\n",
      "Total payments to Andrew Fastow: 2424083 USD\n",
      "Total payments to Jeffrey Skilling: 8682716 USD\n"
     ]
    }
   ],
   "source": [
    "#who took most money\n",
    "print 'Total payments to Kenneth Lay:', enron_data['LAY KENNETH L']['total_payments'], 'USD'\n",
    "print 'Total payments to Andrew Fastow:', enron_data['FASTOW ANDREW S']['total_payments'], 'USD'\n",
    "print 'Total payments to Jeffrey Skilling:', enron_data['SKILLING JEFFREY K']['total_payments'], 'USD'"
   ]
  },
  {
   "cell_type": "markdown",
   "metadata": {},
   "source": [
    "## Dealing with outliers\n",
    "\n",
    "\n",
    "By plotting two of the features of interest: bonus and defferal payments I immediately see that there is a big outlier disturbing the results for the entire dataset. After closer look I find out that this observation is the TOTAL which means that it can be safely remooved. \n",
    "\n",
    "I also decided to remove LOCKHART EUGENE E since the only information about this person is that he is not a person of interest."
   ]
  },
  {
   "cell_type": "code",
   "execution_count": 11,
   "metadata": {
    "collapsed": false
   },
   "outputs": [
    {
     "data": {
      "image/png": "[encoded data removed]",
      "text/plain": [
       "<matplotlib.figure.Figure at 0x9ed2da0>"
      ]
     },
     "metadata": {},
     "output_type": "display_data"
    },
    {
     "data": {
      "image/png": "[encoded data removed]",
      "text/plain": [
       "<matplotlib.figure.Figure at 0xb9a0fd0>"
      ]
     },
     "metadata": {},
     "output_type": "display_data"
    }
   ],
   "source": [
    "#!/usr/bin/python\n",
    "%matplotlib inline\n",
    "import matplotlib\n",
    "import matplotlib.pyplot\n",
    "import sys\n",
    "sys.path.append(\"../tools/\")\n",
    "from feature_format import featureFormat, targetFeatureSplit\n",
    "\n",
    "features = [\"bonus\", 'deferral_payments']\n",
    "data = featureFormat(enron_data, features)\n",
    "\n",
    "\n",
    "for point in data:\n",
    "    bonus = point[0]\n",
    "    deferral_payments = point[1]\n",
    "    matplotlib.pyplot.scatter( bonus, deferral_payments )\n",
    "\n",
    "matplotlib.pyplot.xlabel(\"bonus\")\n",
    "matplotlib.pyplot.ylabel(\"deferral_payments\")\n",
    "matplotlib.pyplot.show()\n",
    "\n",
    "features = [\"bonus\", 'deferral_payments']\n",
    "enron_data.pop( 'TOTAL', 0 ) # removing the outlier created by the entry 'Total'\n",
    "enron_data.pop(\"LOCKHART EUGENE E\", 0)\n",
    "enron_data.pop(\"THE TRAVEL AGENCY IN THE PARK\", 0)\n",
    "\n",
    "data = featureFormat(enron_data, features)\n",
    "\n",
    "\n",
    "for point in data:\n",
    "    bonus = point[0]\n",
    "    deferral_payments = point[1]\n",
    "    matplotlib.pyplot.scatter( bonus, deferral_payments )\n",
    "\n",
    "matplotlib.pyplot.xlabel(\"bonus\")\n",
    "matplotlib.pyplot.ylabel(\"deferral_payments\")\n",
    "matplotlib.pyplot.show()\n"
   ]
  },
  {
   "cell_type": "markdown",
   "metadata": {},
   "source": [
    "After plotting exercised stock options and restricted stock I noticed that the observations for BHATNAGAR SANJAY and BELFER ROBERT seemed to not match the information from the Summary Schedule of all debtors combined.\n",
    "\n",
    "I made some manual adjustments for those two people so that they will match the provided Summary Schedule."
   ]
  },
  {
   "cell_type": "code",
   "execution_count": 12,
   "metadata": {
    "collapsed": false
   },
   "outputs": [
    {
     "data": {
      "image/png": "[encoded data removed]",
      "text/plain": [
       "<matplotlib.figure.Figure at 0xb5a5128>"
      ]
     },
     "metadata": {},
     "output_type": "display_data"
    }
   ],
   "source": [
    "features = [\"exercised_stock_options\", \"restricted_stock\"]\n",
    "\n",
    "# removing the outlier created by the entry 'Total' and Bhatnagar Sanjay since the information was incorrect according\n",
    "#to other cources\n",
    "\n",
    "\n",
    "data = featureFormat(enron_data, features)\n",
    "\n",
    "\n",
    "for point in data:\n",
    "    exercised_stock_options = point[0]\n",
    "    restricted_stock = point[1]\n",
    "    matplotlib.pyplot.scatter( exercised_stock_options, restricted_stock )\n",
    "\n",
    "matplotlib.pyplot.xlabel(\"exercised_stock_options\")\n",
    "matplotlib.pyplot.ylabel(\"restricted_stock\")\n",
    "matplotlib.pyplot.show()"
   ]
  },
  {
   "cell_type": "code",
   "execution_count": 13,
   "metadata": {
    "collapsed": false
   },
   "outputs": [],
   "source": [
    "#Correcting the rest of the outliers\n",
    "data_dict = enron_data\n",
    "### 2.1 Correctwrong entries found after plotting deferral payments:\n",
    "data_dict[\"BHATNAGAR SANJAY\"]['restricted_stock_deferred'] = \"-2604490\"\n",
    "data_dict[\"BHATNAGAR SANJAY\"]['restricted_stock'] = \"2604490\"\n",
    "data_dict[\"BHATNAGAR SANJAY\"]['exercised_stock_options'] = \"15456290\"\n",
    "data_dict[\"BHATNAGAR SANJAY\"]['total_stock_value'] = \"15456290\"\n",
    "data_dict[\"BHATNAGAR SANJAY\"]['expenses'] = \"137864\"\n",
    "\n",
    "\n",
    "data_dict[\"BELFER ROBERT\"]['deferred_income'] = \"-102500\"\n",
    "data_dict[\"BELFER ROBERT\"]['deferral_payments'] = \"NaN\"\n",
    "data_dict[\"BELFER ROBERT\"]['expenses'] = \"3285\"\n",
    "data_dict[\"BELFER ROBERT\"]['director_fees'] = \"102500\"\n",
    "data_dict[\"BELFER ROBERT\"]['total_paymens'] = \"3285\"\n",
    "data_dict[\"BELFER ROBERT\"]['exercised_stock_options'] = \"NaN\"\n",
    "data_dict[\"BELFER ROBERT\"]['restricted_stock'] = \"44093\"\n",
    "data_dict[\"BELFER ROBERT\"]['restricted_stock_deferred'] = \"-44093\"\n",
    "data_dict[\"BELFER ROBERT\"]['total_stock_value'] = \"NaN\""
   ]
  },
  {
   "cell_type": "markdown",
   "metadata": {},
   "source": [
    "After cleaning up of the data there are no observations below 0."
   ]
  },
  {
   "cell_type": "code",
   "execution_count": 14,
   "metadata": {
    "collapsed": false
   },
   "outputs": [
    {
     "data": {
      "image/png": "[encoded data removed]",
      "text/plain": [
       "<matplotlib.figure.Figure at 0xbe544e0>"
      ]
     },
     "metadata": {},
     "output_type": "display_data"
    }
   ],
   "source": [
    "features = [\"exercised_stock_options\", \"restricted_stock\"]\n",
    "\n",
    "# removing the outlier created by the entry 'Total' and Bhatnagar Sanjay since the information was incorrect according\n",
    "#to other cources\n",
    "\n",
    "\n",
    "data = featureFormat(enron_data, features)\n",
    "\n",
    "\n",
    "for point in data:\n",
    "    exercised_stock_options = point[0]\n",
    "    restricted_stock = point[1]\n",
    "    matplotlib.pyplot.scatter( exercised_stock_options, restricted_stock )\n",
    "\n",
    "matplotlib.pyplot.xlabel(\"exercised_stock_options\")\n",
    "matplotlib.pyplot.ylabel(\"restricted_stock\")\n",
    "matplotlib.pyplot.show()"
   ]
  },
  {
   "cell_type": "markdown",
   "metadata": {},
   "source": [
    "Next I proceed with the creation of new features.\n",
    "\n",
    "1. I create a ratio of POI messages to total employees\n",
    "2. I create an aggregate of all employee perks given to the most succesfull employees and especially executives. Accoording to most of the researching articles they together with the corporate culture of always being the best any price were the main motives for fraud.\n",
    "3. Perks ratio which is the employee perks compared to total earnings."
   ]
  },
  {
   "cell_type": "code",
   "execution_count": 15,
   "metadata": {
    "collapsed": false
   },
   "outputs": [],
   "source": [
    "###Feature creation and feature selection:\n",
    "features_list = [\"poi\", \"salary\", \"bonus\", 'total_payments', 'loan_advances', 'total_stock_value', 'expenses', \n",
    "                 'exercised_stock_options','long_term_incentive', 'shared_receipt_with_poi', 'restricted_stock', \n",
    "                 'director_fees'] \n",
    "\n",
    "features_list_new = [\"poi\",\"salary\", \"bonus\", 'total_payments', 'loan_advances', 'total_stock_value','exercised_stock_options','long_term_incentive', 'shared_receipt_with_poi', 'restricted_stock','director_fees','employee_perks', 'perks_ratio']\n",
    "\n"
   ]
  },
  {
   "cell_type": "code",
   "execution_count": 16,
   "metadata": {
    "collapsed": true
   },
   "outputs": [],
   "source": [
    "### Task 3: Create new feature(s)\n",
    "\n",
    "# From https://github.com/DariaAlekseeva/Enron_Dataset/blob/master/Enron%20POI%20Detector%20Project%20Assignment.ipynb\n",
    "\n",
    "#Get rid of NAN\n",
    "\n",
    "\n",
    "for feature in features_list[1:]:\n",
    "    for key in data_dict.keys():\n",
    "        if data_dict[key][feature] == 'NaN':\n",
    "            data_dict[key][feature] = 0.\n",
    "\n",
    "\n",
    "for name in data_dict:\n",
    "\n",
    "# Add ratio of POI messages to total and employee perks (https://github.com/sebasibarguen/udacity-nanodegree-machinelearning/blob/master/final_project/poi_id.py)\n",
    "    try:\n",
    "        total_messages = data_dict[name]['from_messages'] + data_dict[name]['to_messages']\n",
    "        poi_related_messages = data_dict[name][\"from_poi_to_this_person\"] +\\\n",
    "                                data_dict[name][\"from_this_person_to_poi\"] +\\\n",
    "                                data_dict[name][\"shared_receipt_with_poi\"]\n",
    "        poi_ratio = 1.* poi_related_messages / total_messages\n",
    "        data_dict[name]['poi_ratio_messages'] = poi_ratio\n",
    "    except:\n",
    "        data_dict[name]['poi_ratio_messages'] = 'NaN'\n",
    "    try:\n",
    "        employee_perks = float(data_dict[name][\"salary\"])+float(data_dict[name][\"bonus\"])+float(data_dict[name][\"long_term_incentive\"])+\\\n",
    "                        float(data_dict[name][\"total_stock_value\"])\n",
    "        data_dict[name][\"employee_perks\"] = employee_perks\n",
    "    except:\n",
    "        data_dict[name]['employee_perks'] = 'NaN'\n",
    "    try:\n",
    "        total_earnings = float(data_dict[name][\"total_payments\"])+float(data_dict[name][\"total_stock_value\"])\n",
    "        data_dict[name][\"perks_ratio\"] = employee_perks/total_earnings\n",
    "    except:\n",
    "        data_dict[name][\"perks_ratio\"] = \"NaN\"\n",
    "\n",
    "\n",
    "###Update the features list (https://github.com/austinjalexander/udacity_intro_ml_project/blob/master/poi_id.py)\n",
    "for key in data_dict.keys():\n",
    "    features_list.append(\"poi_ratio_messages\")\n",
    "    features_list.append(\"employee_perks\")\n",
    "    features_list.append(\"perks_ratio\")\n",
    "\n",
    "\n",
    "### Store to my_dataset for easy export below.\n",
    "my_dataset = data_dict"
   ]
  },
  {
   "cell_type": "markdown",
   "metadata": {},
   "source": [
    "After the creation of the new features I continue with the selection of the most important of them . \n",
    "\n",
    "It turns out that employee perks has one of the highest scores when performing the SelectKBest test.\n",
    "\n",
    "Unfortunately poi ratio messages has rather modest results so I excluded it from the list of features I used in my further investigations."
   ]
  },
  {
   "cell_type": "code",
   "execution_count": 17,
   "metadata": {
    "collapsed": false
   },
   "outputs": [],
   "source": [
    "from sklearn.cross_validation import StratifiedShuffleSplit\n",
    "data = featureFormat(data_dict, features_list_new, sort_keys = True)\n",
    "labels, features = targetFeatureSplit(data)\n",
    "cv = StratifiedShuffleSplit(labels, n_iter=1000, random_state = 42)\n",
    "for i_train, i_test in cv:\n",
    "    features_train, features_test = [features[i] for i in i_train], [features[i] for i in i_test]\n",
    "    labels_train, labels_test = [labels[i] for i in i_train], [labels[i] for i in i_test]\n",
    "    for ii in i_train:\n",
    "        features_train.append( features[ii] )\n",
    "        labels_train.append( labels[ii] )\n",
    "    for jj in i_test:\n",
    "        features_test.append( features[jj] )\n",
    "        labels_test.append( labels[jj] )"
   ]
  },
  {
   "cell_type": "code",
   "execution_count": 18,
   "metadata": {
    "collapsed": false
   },
   "outputs": [
    {
     "name": "stderr",
     "output_type": "stream",
     "text": [
      "C:\\Users\\User\\Anaconda2\\lib\\site-packages\\sklearn\\metrics\\classification.py:1074: UndefinedMetricWarning: F-score is ill-defined and being set to 0.0 due to no predicted samples.\n",
      "  'precision', 'predicted', average, warn_for)\n"
     ]
    },
    {
     "name": "stdout",
     "output_type": "stream",
     "text": [
      "Pipeline(steps=[('scaler', MinMaxScaler(copy=True, feature_range=(0, 1))), ('SKB', SelectKBest(k=6, score_func=<function f_classif at 0x0000000009BA24A8>)), ('PCA', PCA(copy=True, n_components=3, whiten=False)), ('svc', SVC(C=10, cache_size=200, class_weight=None, coef0=0.0,\n",
      "  decision_function_shape='ovo', degree=3, gamma='auto', kernel='rbf',\n",
      "  max_iter=-1, probability=False, random_state=None, shrinking=True,\n",
      "  tol=0.001, verbose=False))])\n",
      "['salary', 'bonus', 'total_stock_value', 'exercised_stock_options', 'restricted_stock', 'employee_perks']\n"
     ]
    }
   ],
   "source": [
    "from sklearn.svm import SVC\n",
    "\n",
    "# 1000 test and train splits\n",
    "scaler = MinMaxScaler() \n",
    "skb = SelectKBest(f_classif)\n",
    "pca = PCA()\n",
    "svm = SVC()\n",
    "\n",
    "#feature selection\n",
    "pca_params = {\"PCA__n_components\":[3,4,5]}\n",
    "kbest_params = {\"SKB__k\":[5,6,7]}\n",
    "SVC_params = {'svc__kernel':('linear', 'rbf','poly'),\n",
    "              'svc__C':(1,5,10),\n",
    "              'svc__decision_function_shape':('ovo','over','None'),\n",
    "              'svc__tol':(1e-3,1e-4,1e-5)\n",
    "}\n",
    "pca_params.update(kbest_params)\n",
    "pca_params.update(SVC_params)\n",
    "pipe= Pipeline([('scaler',scaler),(\"SKB\", skb),(\"PCA\", pca),(\"svc\", svm)])\n",
    "clf = GridSearchCV(pipe,pca_params, scoring='f1')\n",
    "new_clf = clf.fit(features_train, labels_train)\n",
    "new_pred = clf.predict(features_test)\n",
    "#Result: ['salary', 'bonus', 'total_stock_value', 'exercised_stock_options', 'restricted_stock', 'employee_perks']\n",
    "# you'll want to see the model selected:\n",
    "clf_top = new_clf.best_estimator_\n",
    "print clf_top\n",
    "features_selected_bool = new_clf.best_estimator_.named_steps['SKB'].get_support()\n",
    "features_selected_list = [x for x, y in zip(features_list_new[1:], features_selected_bool) if y]\n",
    "\n",
    "print features_selected_list\n",
    "\n"
   ]
  },
  {
   "cell_type": "markdown",
   "metadata": {},
   "source": [
    "Before proceeding with the testing and tuning of my classifiers of choice, I needed to choose the best features out of an existing list. In order to do that I first had to split the data in one part that was going to be used for training and another for testing. \n",
    "I mimicked the code from tester.py where the data was split with the help of StratifiedShuffleSplit.\n",
    "StratifiedShuffleSplit splits the data into multitude of training and testing (validating) parts where the number of folds equals ‘n_iter’. For each of the folds StratifiedShuffleSplit chooses different points within the dataset.\n",
    "The created training and testing data I used further in the selection process of the best features.\n",
    "The used classifier is actually a pipeline where I used scaling with MinMaxScaler(), choosing the features with the top scores of the performed ANOVA analyses with the help of SelectKBest(). In order to reduce dimensionality I used PCA() which was followed by the classifier SVM().\n",
    "For finding the optimal combination of parameters for all the components of the pipeline I used GridSearchCV where each combination was evaluated according to its F1 score. \n",
    "F1 score is the weighted average of the precision (true positives/(true positives + false positives) or the number of times the classifier has guessed correctly that somebody is a person of interest divided by all the guesses that somebody is a person of interest) and recall (true positives / (true positives + false negatives) or the number of times the classifier has guess correctly that somebody is a person of interest divided by the total number of persons of interest).\n",
    "The MinMaxScaler() was used to prepare the data for the principle component analysis. It transformed the data into values ranging from 0 to 1 which was necessary in order to save the information from all the observations with 0 and to minimize the risk of PCA() giving biased results. PCA computed n number of new components (lines), based on the original data, that successfully fit all the original data points so that the distance between each of those points and the component(the line) was at its minimum. It used a similar approach as the OLS. \n",
    "Example:\n",
    "Source: http://stats.stackexchange.com/questions/2691/making-sense-of-principal-component-analysis-eigenvectors-eigenvalues\n",
    "The selected svm.SVC() classifer was with rbf kernel which means that the separation of the data was not following a straight line.\n",
    "  \n",
    "The Support vector machines focus only on the points that are the most difficult to tell apart, whereas other classifiers pay attention to all of the points.\n",
    "The used C parameter controlled the tradeoff between smoother decision boundary and classifying the points correctly.\n",
    "Source: http://stats.stackexchange.com/questions/23391/how-does-a-support-vector-machine-svm-work\n"
   ]
  },
  {
   "cell_type": "code",
   "execution_count": 19,
   "metadata": {
    "collapsed": true
   },
   "outputs": [],
   "source": [
    "features_list_best = [\"poi\",\"salary\", \"bonus\", 'exercised_stock_options',\n",
    "                     'restricted_stock','employee_perks', 'total_stock_value']\n",
    "data1 = featureFormat(data_dict, features_list_best, sort_keys = True)\n",
    "labels1, features1 = targetFeatureSplit(data1)\n",
    "cv1 = StratifiedShuffleSplit(labels, n_iter=1000, random_state = 42)\n",
    "for i_train, i_test in cv1:\n",
    "    features_train1, features_test1 = [features[i] for i in i_train], [features[i] for i in i_test]\n",
    "    labels_train1, labels_test1 = [labels[i] for i in i_train], [labels[i] for i in i_test]\n",
    "    for ii in i_train:\n",
    "        features_train1.append( features[ii] )\n",
    "        labels_train1.append( labels[ii] )\n",
    "    for jj in i_test:\n",
    "        features_test1.append( features[jj] )\n",
    "        labels_test1.append( labels[jj] )"
   ]
  },
  {
   "cell_type": "code",
   "execution_count": 20,
   "metadata": {
    "collapsed": false
   },
   "outputs": [
    {
     "name": "stdout",
     "output_type": "stream",
     "text": [
      "GaussianNB()\n",
      "\tAccuracy: 0.84421\tPrecision: 0.43522\tRecall: 0.30400\tF1: 0.35796\tF2: 0.32351\n",
      "\tTotal predictions: 14000\tTrue positives:  608\tFalse positives:  789\tFalse negatives: 1392\tTrue negatives: 11211\n",
      "\n"
     ]
    }
   ],
   "source": [
    "NB = GaussianNB()\n",
    "NB.fit(features_train1, labels_train1)\n",
    "predNB = NB.predict(features_test1)\n",
    "\n",
    "test_classifier(NB, my_dataset, features_list_best)"
   ]
  },
  {
   "cell_type": "markdown",
   "metadata": {},
   "source": [
    "## What is parameter tuning\n",
    "Each classifier (apart from simple ones like Naive Bayes), has parameters that you can select. Selecting the parameters that lead to the model with the most optimal results is parameter tuning.\n",
    "I did my parameter tuning using GridSearchCV, where I specified in a 'grid' a number of different parameters which GridSearchCV fitted and returned the optimal model according to the chosen criteria F1 score.\n",
    "\n",
    "## Model selection and tuning\n",
    "In order to control the results for the best features I hardcoded the list of new features and split it the same way I did with my initial list of intuitively selected features + created ones.\n",
    "\n",
    "I used the GausianNB() classifier as a method of controlling the goodness of my results. As mentioned earlier this is one of the simplest classifiers where there is no need of parameter tuning.\n"
   ]
  },
  {
   "cell_type": "code",
   "execution_count": 21,
   "metadata": {
    "collapsed": false
   },
   "outputs": [
    {
     "name": "stdout",
     "output_type": "stream",
     "text": [
      "Pipeline(steps=[('scaler', MinMaxScaler(copy=True, feature_range=(0, 1))), ('PCA', PCA(copy=True, n_components=4, whiten=False)), ('LogisticRegression', LogisticRegression(C=50, class_weight='balanced', dual=False,\n",
      "          fit_intercept=True, intercept_scaling=1, max_iter=100,\n",
      "          multi_class='ovr', n_jobs=1, penalty='l2', random_state=None,\n",
      "          solver='liblinear', tol=1e-05, verbose=0, warm_start=False))])\n"
     ]
    }
   ],
   "source": [
    "#classifier number 2 - Logistic regression tuning\n",
    "LogisticR = LogisticRegression()\n",
    "parameters = {'LogisticRegression__C':(40,50,60),\n",
    "              'LogisticRegression__class_weight':('balanced',None),\n",
    "              'LogisticRegression__intercept_scaling':(1,2,3),\n",
    "              \"LogisticRegression__max_iter\": (100, 200,300),\n",
    "              \"LogisticRegression__tol\": (1e-05,1e-06,1e-07)\n",
    "              }\n",
    "pca_params = {\"PCA__n_components\":[1,2,3,4,5]}\n",
    "\n",
    "parameters.update(pca_params)\n",
    "pipeline2 = Pipeline([('scaler',scaler),('PCA', pca),('LogisticRegression', LogisticR )])\n",
    "clf1 = GridSearchCV(pipeline2, parameters, scoring='f1')\n",
    "clf1.fit(features_train1, labels_train1)\n",
    "pred1 = clf1.predict(features_test1)\n",
    "#scaler - necessary step before PCA \n",
    "#PCA - reduces dimensionality based on \n",
    "#skb - picks best feture based on anova\n",
    "#LogisticR picks a feature based on overall fit to the model\n",
    "\n",
    "\n",
    "#you'll want to see the model selected:\n",
    "clf_top1 = clf1.best_estimator_\n",
    "print clf_top1\n"
   ]
  },
  {
   "cell_type": "code",
   "execution_count": 23,
   "metadata": {
    "collapsed": false,
    "scrolled": true
   },
   "outputs": [
    {
     "name": "stdout",
     "output_type": "stream",
     "text": [
      "Pipeline(steps=[('minmax', MinMaxScaler(copy=True, feature_range=(0, 1))), ('PCA', PCA(copy=True, n_components=4, whiten=False)), ('clf', LogisticRegression(C=50, class_weight='balanced', dual=False,\n",
      "          fit_intercept=True, intercept_scaling=5, max_iter=100,\n",
      "          multi_class='ovr', n_jobs=1, penalty='l2', random_state=None,\n",
      "          solver='liblinear', tol=1e-05, verbose=0, warm_start=False))])\n",
      "\tAccuracy: 0.74600\tPrecision: 0.27449\tRecall: 0.47350\tF1: 0.34752\tF2: 0.41354\n",
      "\tTotal predictions: 14000\tTrue positives:  947\tFalse positives: 2503\tFalse negatives: 1053\tTrue negatives: 9497\n",
      "\n"
     ]
    }
   ],
   "source": [
    "pca = PCA(n_components=4)\n",
    "LogisticR = LogisticRegression(C=50, class_weight='balanced', dual=False,\n",
    "          fit_intercept=True, intercept_scaling=5, max_iter=100,\n",
    "          multi_class='ovr', n_jobs=1, random_state=None, penalty='l2',\n",
    "          solver='liblinear', tol=1e-05, verbose=0, warm_start=False )\n",
    "\n",
    "clf_log = Pipeline([(\"minmax\", scaler), (\"PCA\", pca), (\"clf\", LogisticR)])\n",
    "clf_log.fit(features_test1, labels_test1)\n",
    "\n",
    "test_classifier(clf_log, my_dataset, features_list_best)"
   ]
  },
  {
   "cell_type": "markdown",
   "metadata": {},
   "source": [
    "Model evaluation\n",
    "\n",
    "The model was evaluated with the help of tester.py where just as in my project the information was first imported, then split in n number of folds with the help of StratifiedShuffleSplit. In this case a 1000 number of folds were created with pseudo-randomness in the choice of different data points for each fold equal to 42.\n",
    "\n",
    "After that the created folds were split into testing and training features and labels and fitted with the created classifier.\n",
    "\n",
    "The goodness of fit of the classifier was then evaluated by sorting the results in 4 different categories: \n",
    "1.\tTrue_negative - points (people) that the classifier labeled as no person of interest and they in fact were no person of interest   \n",
    "2.\tFalse_negative – points (people) that the classifier labeled as no person of interest when they in fact were a person of interest\n",
    "3.\tFals_positive – points (people) that the classifier labeled as a person of interest when they in fact were not such\n",
    "4.\tTrue_positive – when the classifier successfully labeled a person of interest\n",
    "\n",
    "After sorting each point in such manner the results are further evaluated by calculating the accuracy, precision, recall, f1 and f2.\n",
    "\n",
    "1.\tAccuracy – the sum of the true_positive and true_negative labels divided with the sum of all labels returned by the classifier\n",
    "2.\tPrecision – the true_positive labels divided with all the poisitive labels returned by the classifier or the proportion of correctly labeled persons of interest out of all the points that the classifier counted as a person of interest\n",
    "3.\tRecall – the true_positive labels divided with all sum of true_positive and false_negative labels returned by the classifier i.e. the portion of correctly labeled persons of interest out of all the persons of interest that existed in the data.\n",
    "4.\tF1 – the weighted average of the precision and recall metrics where the best score is 1 and the worst is 0\n",
    "5.\tF2 – is also weighted result of precision and recall giving more weight to the recall metric. Here again the best result is 1 and worst is 0.\n",
    "\n",
    "This meant that the results I got for my simplest classifier were below average. The main reason is the small number of persons of interest in the dataset and the multitude of missing information. The results would have been even worse if I did not create the 1000 folds of different combinations of data points with the help of StratifiedShuffleSplit.\n",
    "\n",
    "Tuning my other two classifiers of choice\n",
    "\n",
    "My other two classifiers of choice were the DecisionTreeClassifier and the LigisticRegression.\n",
    "\n",
    "I repeated the same process of parameter tuning as with the feature selection.\n",
    "\n",
    "For the Logistic regression I got:\n",
    "\n",
    "Pipeline(steps=[('minmax', MinMaxScaler(copy=True, feature_range=(0, 1))), ('PCA', PCA(copy=True, n_components=4, whiten=False)), ('clf', LogisticRegression(C=50, class_weight='balanced', dual=False,fit_intercept=True, intercept_scaling=5, max_iter=100,multi_class='ovr', n_jobs=1, penalty='l2', random_state=None,solver='liblinear', tol=1e-05, verbose=0, warm_start=False))])\n",
    "\n",
    "\n",
    "\n",
    "\n",
    "And for the Decision Tree Classifier I got:\n",
    "\n",
    "Pipeline(steps=[('DecisionTreeClassifier', DecisionTreeClassifier(class_weight=None, criterion='entropy', max_depth=None, max_features=None, max_leaf_nodes=20, min_samples_leaf=2,min_samples_split=10, min_weight_fraction_leaf=0.3,presort=False, random_state=20, splitter='best'))])\n",
    "\n",
    "For the sake of speeding up the evaluation process I hardcoded both optimal classifiers.\n",
    "\n",
    "At the evaluation stages I used again the test_classifier function in tester.py.\n",
    "\n",
    "For my optimal Logistic Regression model which I obtained using Grid Search I got the following results:\n",
    "Accuracy: 0.74600\tPrecision: 0.27449\tRecall: 0.47350\tF1: 0.34752\tF2: 0.41354\n",
    "\tTotal predictions: 14000\tTrue positives:  947\tFalse positives: 2503\tFalse negatives: 1053\tTrue negatives: 9497\n",
    "\n",
    "\n",
    "\t\n",
    "Here the values for F1, F2 and especially recall were good enough for the purpose of this project but the precision was rather low which meant that my classifier was not doing well at correctly identifying someone as person of interest.\n",
    "\n",
    "I experimented further with the parameters of my classifier until I found out that the results were mostly influenced by the number of principle components. The experimentation process is not documented. I got drastically higher results when I left only one principal component. Which meant that all the features were summed up in 1 line. Below I list the obtained results:\n",
    "\n",
    "Pipeline(steps=[('minmax', MinMaxScaler(copy=True, feature_range=(0, 1))), ('PCA', PCA(copy=True, n_components=1, whiten=False)), ('clf', LogisticRegression(C=50, class_weight='balanced', dual=False,fit_intercept=True, intercept_scaling=5, max_iter=100,multi_class='ovr', n_jobs=1, penalty='l2', random_state=None,solver='liblinear', \n",
    "tol=1e-05, verbose=0, warm_start=False))])\n",
    "Accuracy: 0.77507\tPrecision: 0.32846\tRecall: 0.55000\tF1: 0.41129\tF2: 0.48462\n",
    "\tTotal predictions: 14000\tTrue positives: 1100\tFalse positives: 2249\tFalse negatives:  900\tTrue negatives: 9751\n",
    "\n",
    "I got above average results for my recall which meant that the chosen classifier was successfully identifying persons of interest in more than 50% present of the time. The accuracy of my classifier improved as well.\n",
    "\n",
    "I did not choose this as my final classifier since I do not fully understand the reason behind this quite substantial change in the results and why the Grid Search has ignored this parameter combination.\n"
   ]
  },
  {
   "cell_type": "code",
   "execution_count": 24,
   "metadata": {
    "collapsed": false
   },
   "outputs": [
    {
     "name": "stdout",
     "output_type": "stream",
     "text": [
      "Pipeline(steps=[('minmax', MinMaxScaler(copy=True, feature_range=(0, 1))), ('PCA', PCA(copy=True, n_components=1, whiten=False)), ('clf', LogisticRegression(C=50, class_weight='balanced', dual=False,\n",
      "          fit_intercept=True, intercept_scaling=5, max_iter=100,\n",
      "          multi_class='ovr', n_jobs=1, penalty='l2', random_state=None,\n",
      "          solver='liblinear', tol=1e-05, verbose=0, warm_start=False))])\n",
      "\tAccuracy: 0.77507\tPrecision: 0.32846\tRecall: 0.55000\tF1: 0.41129\tF2: 0.48462\n",
      "\tTotal predictions: 14000\tTrue positives: 1100\tFalse positives: 2249\tFalse negatives:  900\tTrue negatives: 9751\n",
      "\n"
     ]
    }
   ],
   "source": [
    "pca = PCA(n_components=1)\n",
    "LogisticR = LogisticRegression(C=50, class_weight='balanced', dual=False,\n",
    "          fit_intercept=True, intercept_scaling=5, max_iter=100,\n",
    "          multi_class='ovr', n_jobs=1, random_state=None, penalty='l2',\n",
    "          solver='liblinear', tol=1e-05, verbose=0, warm_start=False )\n",
    "\n",
    "clf_log = Pipeline([(\"minmax\", scaler), (\"PCA\", pca), (\"clf\", LogisticR)])\n",
    "clf_log.fit(features_test1, labels_test1)\n",
    "\n",
    "test_classifier(clf_log, my_dataset, features_list_best)"
   ]
  },
  {
   "cell_type": "code",
   "execution_count": 32,
   "metadata": {
    "collapsed": false
   },
   "outputs": [
    {
     "name": "stdout",
     "output_type": "stream",
     "text": [
      "Pipeline(steps=[('DecisionTreeClassifier', DecisionTreeClassifier(class_weight=None, criterion='entropy', max_depth=None,\n",
      "            max_features=None, max_leaf_nodes=20, min_samples_leaf=2,\n",
      "            min_samples_split=10, min_weight_fraction_leaf=0.3,\n",
      "            presort=False, random_state=20, splitter='best'))])\n"
     ]
    }
   ],
   "source": [
    "#Next is the DecisionTree\n",
    "tree = DecisionTreeClassifier()\n",
    "pca = PCA(n_components=5)\n",
    "# classifier number 2 - Decision Tree tuning\n",
    "parameters = {'DecisionTreeClassifier__min_samples_split':(10,20),\n",
    "              'DecisionTreeClassifier__min_samples_leaf':(2,4),\n",
    "              'DecisionTreeClassifier__max_leaf_nodes':(20,30,40,50),\n",
    "              \"DecisionTreeClassifier__min_weight_fraction_leaf\": (0.3,0.4,0.5),\n",
    "              \"DecisionTreeClassifier__random_state\": (20,40),\n",
    "              \"DecisionTreeClassifier__criterion\": ('gini','entropy')\n",
    "              }\n",
    "\n",
    "pipeline1 = Pipeline([('DecisionTreeClassifier', tree )])\n",
    "#scaler - necessary step before PCA \n",
    "#PCA - reduces dimensionality based on \n",
    "#skb - picks best feture based on anova\n",
    "#decision tree picks a feature based on overall fit to the model\n",
    "#\n",
    "clf1 = GridSearchCV(pipeline1, parameters, scoring='f1')\n",
    "clf1.fit(features_train1, labels_train1)\n",
    "pred1 = clf1.predict(features_test1)\n",
    "\n",
    "# you'll want to see the model selected:\n",
    "clf_top1 = clf1.best_estimator_\n",
    "\n",
    "print clf_top1"
   ]
  },
  {
   "cell_type": "code",
   "execution_count": 30,
   "metadata": {
    "collapsed": false
   },
   "outputs": [
    {
     "name": "stdout",
     "output_type": "stream",
     "text": [
      "Pipeline(steps=[('DecisionTreeClassifier', DecisionTreeClassifier(class_weight=None, criterion='entropy', max_depth=None,\n",
      "            max_features=None, max_leaf_nodes=20, min_samples_leaf=2,\n",
      "            min_samples_split=10, min_weight_fraction_leaf=0.3,\n",
      "            presort=False, random_state=20, splitter='best'))])\n",
      "\tAccuracy: 0.82500\tPrecision: 0.37054\tRecall: 0.32200\tF1: 0.34457\tF2: 0.33066\n",
      "\tTotal predictions: 14000\tTrue positives:  644\tFalse positives: 1094\tFalse negatives: 1356\tTrue negatives: 10906\n",
      "\n"
     ]
    }
   ],
   "source": [
    "clf_tree = DecisionTreeClassifier(class_weight=None, criterion='entropy', max_depth=None,\n",
    "            max_features=None, max_leaf_nodes=20, min_samples_leaf=2,\n",
    "            min_samples_split=10, min_weight_fraction_leaf=0.3,\n",
    "            presort=False, random_state=20, splitter='best')\n",
    "clf = Pipeline([('DecisionTreeClassifier', clf_tree )])\n",
    "clf.fit(features_train1, labels_train1)\n",
    "test_classifier(clf, my_dataset, features_list_best)"
   ]
  },
  {
   "cell_type": "markdown",
   "metadata": {},
   "source": [
    "For my Decision Tree Classifier I got the following results:\n",
    "Accuracy: 0.82500\tPrecision: 0.37054\tRecall: 0.32200\tF1: 0.34457\tF2: 0.33066\n",
    "\tTotal predictions: 14000\tTrue positives:  644\tFalse positives: 1094\tFalse negatives: 1356\tTrue negatives: 10906\n",
    "\n",
    "\n",
    "The further experimentation with the feature and model selection process I left out of this project.\n",
    "\n",
    "Disclaimer\n",
    "\n",
    "My feature and model selection strategies have shifted from more intuitive to more technical since the previous submission. I would continue experimenting with different data sources and searching for the perfect combination of technical knowledge and intuition.\n"
   ]
  }
 ],
 "metadata": {
  "anaconda-cloud": {},
  "celltoolbar": "Raw Cell Format",
  "kernelspec": {
   "display_name": "Python [default]",
   "language": "python",
   "name": "python2"
  },
  "language_info": {
   "codemirror_mode": {
    "name": "ipython",
    "version": 2
   },
   "file_extension": ".py",
   "mimetype": "text/x-python",
   "name": "python",
   "nbconvert_exporter": "python",
   "pygments_lexer": "ipython2",
   "version": "2.7.12"
  }
 },
 "nbformat": 4,
 "nbformat_minor": 0
}
